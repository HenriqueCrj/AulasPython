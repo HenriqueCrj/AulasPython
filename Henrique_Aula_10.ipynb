{
  "nbformat": 4,
  "nbformat_minor": 0,
  "metadata": {
    "colab": {
      "name": "Henrique_Aula_10.ipynb",
      "provenance": [],
      "collapsed_sections": [],
      "authorship_tag": "ABX9TyOFKRZhQ4Q4hXv/XCKEKBHO",
      "include_colab_link": true
    },
    "kernelspec": {
      "name": "python3",
      "display_name": "Python 3"
    }
  },
  "cells": [
    {
      "cell_type": "markdown",
      "metadata": {
        "id": "view-in-github",
        "colab_type": "text"
      },
      "source": [
        "<a href=\"https://colab.research.google.com/github/HenriqueCrj/AulasPython/blob/master/Henrique_Aula_10.ipynb\" target=\"_parent\"><img src=\"https://colab.research.google.com/assets/colab-badge.svg\" alt=\"Open In Colab\"/></a>"
      ]
    },
    {
      "cell_type": "code",
      "metadata": {
        "id": "B6_wDirNiC8e",
        "outputId": "884b8ff0-5bdc-4efe-c45b-64e4b49be3bd",
        "colab": {
          "base_uri": "https://localhost:8080/",
          "height": 54
        }
      },
      "source": [
        "import numpy as np\n",
        "\n",
        "r_an = np.exp(-0) - np.exp(-10)\n",
        "x_i = 0\n",
        "x_f = 10\n",
        "dx = 1\n",
        "cond = True\n",
        "while (cond):\n",
        "    x = np.arange(x_i,x_f,dx)\n",
        "    sum = 0\n",
        "    for xi in x:\n",
        "        sum = sum + np.exp(-xi) * dx\n",
        "    dx -= 0.001\n",
        "    if (sum - r_an)/r_an <= 0.01:\n",
        "        cond = False\n",
        "        \n",
        "print(f\"Soma de {len(x) - 1} retângulos = {sum}\")\n",
        "print(f\"Intervalo de tamanho dx = {dx}\")"
      ],
      "execution_count": 1,
      "outputs": [
        {
          "output_type": "stream",
          "text": [
            "Soma de 526 retângulos = 1.0094848425250729\n",
            "Intervalo de tamanho dx = 0.017999999999999128\n"
          ],
          "name": "stdout"
        }
      ]
    },
    {
      "cell_type": "code",
      "metadata": {
        "id": "3UBp8qWDlgYn",
        "outputId": "1280b04f-5e5d-4bc4-f8db-3f2ec9d6147f",
        "colab": {
          "base_uri": "https://localhost:8080/",
          "height": 743
        }
      },
      "source": [
        "import numpy as np\n",
        "import matplotlib.pyplot as plt\n",
        "\n",
        "def f(x):\n",
        "    return np.exp(-x)\n",
        "\n",
        "def left_integral_plot(f,a,b,dx):\n",
        "    x = np.arange(a,b + dx,dx)\n",
        "    sum = 0\n",
        "    for i in range(len(x) - 1):\n",
        "        sum = sum + f(x[i]) * dx\n",
        "    print(f\"Soma pela esquerda = {sum}\")\n",
        "\n",
        "    x2 = np.arange(a,b + dx,dx/10) #Cria mais pontos para fazer um gráfico mais preciso\n",
        "    fig, axes = plt.subplots(figsize=(6,5))\n",
        "    plt.title(\"Soma de Riemann pela esquerda\")\n",
        "    plt.bar(x[:-1],f(x[:-1]),width=dx,align=\"edge\",color=\"blue\")\n",
        "    plt.plot(x2,f(x2),color=\"red\",label = r\"$f(x) = e^{-x}$\")\n",
        "    plt.legend()\n",
        "    return sum\n",
        "\n",
        "def right_integral_plot(f,a,b,dx):\n",
        "    x = np.arange(a,b + dx,dx)\n",
        "    sum = 0\n",
        "    for i in range(1,len(x)):\n",
        "        sum = sum + f(x[i]) * dx\n",
        "    print(f\"Soma pela direita = {sum}\")\n",
        "\n",
        "    x2 = np.arange(a,b + dx,dx/10) #Cria mais pontos para fazer um gráfico mais preciso\n",
        "    fig, axes = plt.subplots(figsize=(6,5))\n",
        "    plt.title(\"Soma de Riemann pela direita\")\n",
        "    plt.bar(x[1:],f(x[1:]),width=-dx,align=\"edge\",color=\"blue\")\n",
        "    plt.plot(x2,f(x2),color=\"red\",label = r\"$f(x) = e^{-x}$\")\n",
        "    plt.legend()\n",
        "    return sum\n",
        "\n",
        "s1 = right_integral_plot(f, a = 0, b = 10, dx = 1)\n",
        "s2 = left_integral_plot(f, a = 0, b = 10, dx = 1)\n",
        "plt.tight_layout()\n",
        "print(f\"Média entre as integrais = {(s1 + s2)/2}\")"
      ],
      "execution_count": 2,
      "outputs": [
        {
          "output_type": "stream",
          "text": [
            "Soma pela direita = 0.5819502851677112\n",
            "Soma pela esquerda = 1.5819048852379485\n",
            "Média entre as integrais = 1.0819275852028298\n"
          ],
          "name": "stdout"
        },
        {
          "output_type": "display_data",
          "data": {
            "image/png": "[encoded data removed]",
            "text/plain": [
              "<Figure size 432x360 with 1 Axes>"
            ]
          },
          "metadata": {
            "tags": [],
            "needs_background": "light"
          }
        },
        {
          "output_type": "display_data",
          "data": {
            "image/png": "[encoded data removed]",
            "text/plain": [
              "<Figure size 432x360 with 1 Axes>"
            ]
          },
          "metadata": {
            "tags": [],
            "needs_background": "light"
          }
        }
      ]
    },
    {
      "cell_type": "code",
      "metadata": {
        "id": "YTBFpSNbtAcp",
        "outputId": "466c5304-9ec4-4c7d-82d7-da1ca200355c",
        "colab": {
          "base_uri": "https://localhost:8080/",
          "height": 54
        }
      },
      "source": [
        "import numpy as np\n",
        "\n",
        "def f(x):\n",
        "    return np.exp(-x)\n",
        "    \n",
        "def left_integral(f,a,b,dx):\n",
        "    x = np.arange(a,b + dx,dx)\n",
        "    sum = 0\n",
        "    for i in range(len(x) - 1):\n",
        "        sum = sum + f(x[i]) * dx\n",
        "    print(f\"Soma pela esquerda = {sum}\")\n",
        "    return sum\n",
        "\n",
        "def right_integral(f,a,b,dx):\n",
        "    x = np.arange(a,b + dx,dx)\n",
        "    sum = 0\n",
        "    for i in range(1,len(x)):\n",
        "        sum = sum + f(x[i]) * dx\n",
        "    print(f\"Soma pela direita = {sum}\")\n",
        "    return sum\n",
        "\n",
        "def trapezoidal_integral(f,a,b,dx):\n",
        "    x = np.arange(a,b,dx)\n",
        "    sum = 0\n",
        "    for i in range(len(x) - 1):\n",
        "        sum = sum + (f(x[i]) + f(x[i + 1]))*dx/2\n",
        "    print(f\"Soma pela regra do trapézio = {sum}\")\n",
        "    return sum\n",
        "\n",
        "trapezoidal_integral(f,a = 0,b = 10,dx = 0.01)"
      ],
      "execution_count": 3,
      "outputs": [
        {
          "output_type": "stream",
          "text": [
            "Soma pela regra do trapézio = 0.9999624767306672\n"
          ],
          "name": "stdout"
        },
        {
          "output_type": "execute_result",
          "data": {
            "text/plain": [
              "0.9999624767306672"
            ]
          },
          "metadata": {
            "tags": []
          },
          "execution_count": 3
        }
      ]
    },
    {
      "cell_type": "code",
      "metadata": {
        "id": "1lfqZOcMvNEV",
        "outputId": "7feabe9d-b4c7-4a23-d639-2285773559d6",
        "colab": {
          "base_uri": "https://localhost:8080/",
          "height": 256
        }
      },
      "source": [
        "def g(x):\n",
        "    return np.sin(x)\n",
        "\n",
        "def h(x):\n",
        "    return np.cos(x)\n",
        "\n",
        "a = 0\n",
        "b = 2*np.pi\n",
        "dx = 0.01\n",
        "\n",
        "print(\"-\"*30)\n",
        "print(\"Integral de sen(x) de 0 até 2\\u03c0\\n\")\n",
        "right_integral(g, a, b, dx)\n",
        "left_integral(g, a, b, dx)\n",
        "trapezoidal_integral(g, a, b, dx)\n",
        "print(\"-\"*30)\n",
        "print(\"Integral de cos(x) de 0 até 2\\u03c0\\n\")\n",
        "right_integral(h, a, b, dx)\n",
        "left_integral(h, a, b, dx)\n",
        "trapezoidal_integral(h, a, b, dx)\n",
        "print(\"-\"*30)"
      ],
      "execution_count": 4,
      "outputs": [
        {
          "output_type": "stream",
          "text": [
            "------------------------------\n",
            "Integral de sen(x) de 0 até 2π\n",
            "\n",
            "Soma pela direita = 5.729293613187067e-05\n",
            "Soma pela esquerda = -1.0853464615831085e-05\n",
            "Soma pela regra do trapézio = 5.07304435060565e-06\n",
            "------------------------------\n",
            "Integral de cos(x) de 0 até 2π\n",
            "\n",
            "Soma pela direita = 0.0068144671863620086\n",
            "Soma pela esquerda = 0.006814699385654838\n",
            "Soma pela regra do trapézio = -0.003185275248912602\n",
            "------------------------------\n"
          ],
          "name": "stdout"
        }
      ]
    },
    {
      "cell_type": "code",
      "metadata": {
        "id": "H8eHKUsb0Pjr",
        "outputId": "f412fae3-a032-4d25-90f4-867e4adba10e",
        "colab": {
          "base_uri": "https://localhost:8080/",
          "height": 256
        }
      },
      "source": [
        "def k(x):\n",
        "    return np.sinh(x)\n",
        "\n",
        "def l(x):\n",
        "    return np.cosh(x)\n",
        "\n",
        "a = 0\n",
        "b = 10\n",
        "dx = 0.01\n",
        "\n",
        "print(\"-\"*30)\n",
        "print(\"Integral de senh(x) de 0 até 10\\n\")\n",
        "right_integral(k, a, b, dx)\n",
        "left_integral(k, a, b, dx)\n",
        "trapezoidal_integral(k, a, b, dx)\n",
        "print(\"-\"*30)\n",
        "print(\"Integral de cosh(x) de 0 até 10\\n\")\n",
        "right_integral(l, a, b, dx)\n",
        "left_integral(l, a, b, dx)\n",
        "trapezoidal_integral(l, a, b, dx)\n",
        "print(\"-\"*30)"
      ],
      "execution_count": 5,
      "outputs": [
        {
          "output_type": "stream",
          "text": [
            "------------------------------\n",
            "Integral de senh(x) de 0 até 10\n",
            "\n",
            "Soma pela direita = 11067.390852931563\n",
            "Soma pela esquerda = 10957.25852418453\n",
            "Soma pela regra do trapézio = 10902.7402773036\n",
            "------------------------------\n",
            "Integral de cosh(x) de 0 até 10\n",
            "\n",
            "Soma pela direita = 11068.385816091573\n",
            "Soma pela esquerda = 10958.263486890539\n",
            "Soma pela regra do trapézio = 10903.740239780327\n",
            "------------------------------\n"
          ],
          "name": "stdout"
        }
      ]
    }
  ]
}