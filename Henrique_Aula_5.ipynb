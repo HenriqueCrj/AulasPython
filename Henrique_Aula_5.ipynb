{
  "nbformat": 4,
  "nbformat_minor": 0,
  "metadata": {
    "colab": {
      "name": "Henrique_Aula_5.ipynb",
      "provenance": [],
      "collapsed_sections": [],
      "authorship_tag": "ABX9TyPq8xv34lnWgdAp/zLZVfv/",
      "include_colab_link": true
    },
    "kernelspec": {
      "name": "python3",
      "display_name": "Python 3"
    }
  },
  "cells": [
    {
      "cell_type": "markdown",
      "metadata": {
        "id": "view-in-github",
        "colab_type": "text"
      },
      "source": [
        "<a href=\"https://colab.research.google.com/github/HenriqueCrj/AulasPython/blob/master/Henrique_Aula_5.ipynb\" target=\"_parent\"><img src=\"https://colab.research.google.com/assets/colab-badge.svg\" alt=\"Open In Colab\"/></a>"
      ]
    },
    {
      "cell_type": "markdown",
      "metadata": {
        "id": "YRIwGuAOdjyJ"
      },
      "source": [
        "\n",
        "    1. Escreva uma função em Python para encontrar o máximo de três números.\n",
        "    2. Escreva uma função em Python para somar todos os números em uma lista.\n",
        "    3. Escreva uma função em Python para multiplicar todos os números em uma lista.\n",
        "    4. Escreva uma função em Python para verificar se um número está em um determinado intervalo.\n",
        "    5. Escreva um programa em Python para imprimir os números pares de uma determinada lista.\n",
        "    6. Escreva uma função em Python para verificar se um número é perfeito ou não. Na teoria dos números, um número perfeito é um inteiro positivo que é igual à soma de seus divisores positivos apropriados, isto é, a soma de seus divisores positivos excluindo o próprio número (também conhecido como sua soma de alíquotas). Equivalentemente, um número perfeito é um número que é metade da soma de todos os seus divisores positivos (incluindo ele próprio). "
      ]
    },
    {
      "cell_type": "code",
      "metadata": {
        "id": "_ryWtoYGvA5E",
        "outputId": "2d2d044c-1f6f-4a33-c583-381381b7d8ef",
        "colab": {
          "base_uri": "https://localhost:8080/",
          "height": 476
        }
      },
      "source": [
        "#Aula 5 - Exercícios da TWiki\n",
        "def exercise_5_1():\n",
        "  def max_of(a,b,c):\n",
        "    if a >= b:\n",
        "      if a >= c:\n",
        "        return a\n",
        "      else:\n",
        "        return c\n",
        "    else:\n",
        "      if b >= c:\n",
        "        return b\n",
        "      else:\n",
        "        return c\n",
        "\n",
        "  print(\"Questão 1:\")\n",
        "  print(f\"Maior número entre 6, 5 e 4: {max_of(6,5,4)}\\n\")\n",
        "\n",
        "def exercise_5_2():\n",
        "  def sum_all(numbers):\n",
        "    sum = 0\n",
        "    for number in numbers:\n",
        "      sum += number\n",
        "    return sum\n",
        "\n",
        "  num_list = [1, 2, 3, 4, 5, 6]\n",
        "  list_sum = sum_all([1,2,3,4,5,6])\n",
        "  print(\"Questão 2:\")\n",
        "  print(f\"Soma de todos números na lista {num_list}: {list_sum}\\n\")\n",
        "\n",
        "def exercise_5_3():\n",
        "  def multiply_all(numbers):\n",
        "    product = 1\n",
        "    for number in numbers:\n",
        "      product *= number\n",
        "    return product\n",
        "\n",
        "  num_list = [1, 2, 3, 4, 5, 6]  \n",
        "  list_product = multiply_all(num_list)\n",
        "  print(\"Questão 3:\")\n",
        "  print(f\"Produtório de todos números na lista {num_list}: {list_product}\\n\")\n",
        "\n",
        "def exercise_5_4():\n",
        "  def is_in_interval(x,a,b):\n",
        "    if (x >= a and x <= b):\n",
        "      print(\"O valor está dentro do intervalo\")\n",
        "    else:\n",
        "      print(\"O valor está fora do intervalo\")\n",
        "\n",
        "  print(\"Questão 4:\")\n",
        "  print(\"O valor -3 está dentro do intervalo [-5,1]?\")\n",
        "  is_in_interval(-3,-5,1)\n",
        "  print(\"\\n\")\n",
        "\n",
        "def exercise_5_5():\n",
        "  def print_even_in(numbers):\n",
        "    even = []\n",
        "    for number in numbers:\n",
        "      if not (number % 2):\n",
        "        if number not in even:\n",
        "          even.append(number)\n",
        "    print(\"{}\\n\".format(even))\n",
        "\n",
        "  num_list = [1,2,7,5,8,3,2,4]\n",
        "  print(\"Questão 5:\")\n",
        "  print(f\"Os valores pares na lista {num_list} são:\")\n",
        "  print_even_in(num_list)\n",
        "\n",
        "def exercise_5_6():\n",
        "  def is_perfect(x):\n",
        "    if isinstance(x,int):\n",
        "      if x > 0:\n",
        "        divisors = []\n",
        "        for i in range(1,x+1):\n",
        "          if not (x % i):\n",
        "            divisors.append(i)\n",
        "        if x == sum(divisors)/2:\n",
        "          print(\"O número é perfeito.\")\n",
        "        else:\n",
        "          print(\"O número não é perfeito.\")\n",
        "      else:\n",
        "        print(\"Erro: inteiro não positivo.\")\n",
        "    else:\n",
        "      print(\"Erro: número não é um inteiro.\")\n",
        "\n",
        "  print(\"Questão 6:\")\n",
        "  print(\"O número 496 é perfeito?\")\n",
        "  is_perfect(496)\n",
        "  print(\"E o número 497?\")\n",
        "  is_perfect(497)\n",
        "  print(\"\\n\")\n",
        "\n",
        "exercise_5_1()\n",
        "exercise_5_2()\n",
        "exercise_5_3()\n",
        "exercise_5_4()\n",
        "exercise_5_5()\n",
        "exercise_5_6()"
      ],
      "execution_count": null,
      "outputs": [
        {
          "output_type": "stream",
          "text": [
            "Questão 1:\n",
            "Maior número entre 6, 5 e 4: 6\n",
            "\n",
            "Questão 2:\n",
            "Soma de todos números na lista [1, 2, 3, 4, 5, 6]: 21\n",
            "\n",
            "Questão 3:\n",
            "Produtório de todos números na lista [1, 2, 3, 4, 5, 6]: 720\n",
            "\n",
            "Questão 4:\n",
            "O valor -3 está dentro do intervalo [-5,1]?\n",
            "O valor está dentro do intervalo\n",
            "\n",
            "\n",
            "Questão 5:\n",
            "Os valores pares na lista [1, 2, 7, 5, 8, 3, 2, 4] são:\n",
            "[2, 8, 4]\n",
            "\n",
            "Questão 6:\n",
            "O número 496 é perfeito?\n",
            "O número é perfeito.\n",
            "E o número 497?\n",
            "O número não é perfeito.\n",
            "\n",
            "\n"
          ],
          "name": "stdout"
        }
      ]
    }
  ]
}