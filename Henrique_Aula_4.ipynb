{
  "nbformat": 4,
  "nbformat_minor": 0,
  "metadata": {
    "colab": {
      "name": "Henrique_Aula_4.ipynb",
      "provenance": [],
      "collapsed_sections": [],
      "authorship_tag": "ABX9TyNBJvyzYXgsGKpOyPijckSa",
      "include_colab_link": true
    },
    "kernelspec": {
      "name": "python3",
      "display_name": "Python 3"
    }
  },
  "cells": [
    {
      "cell_type": "markdown",
      "metadata": {
        "id": "view-in-github",
        "colab_type": "text"
      },
      "source": [
        "<a href=\"https://colab.research.google.com/github/HenriqueCrj/AulasPython/blob/master/Henrique_Aula_4.ipynb\" target=\"_parent\"><img src=\"https://colab.research.google.com/assets/colab-badge.svg\" alt=\"Open In Colab\"/></a>"
      ]
    },
    {
      "cell_type": "markdown",
      "metadata": {
        "id": "u-_fv0o6Ajix"
      },
      "source": [
        "\n",
        "\n",
        "    1. Crie uma função que imprima na tela a data de hoje em português (Utilize a libraria time e a função localtime, que tipo de objeto ela retorna? chame help() no prompt para aprender utilizar a libraria e a função e manipular o objeto de retorno).\n",
        "    2. Crie uma função usando a palavra chave for para fazer as repetições ao calcular o fatorial de un numero inteiro maior ou igual a 1. Logo faça uma nova função recursiva (quer dizer, que chama ela mesma) para fazer o mesmo cálculo. Qual outra utilidade pode ter a recursividade?\n",
        "    3. Crie uma função que compare 2 números e imprima na tela o resultado da comparação (a maior do que b, a menor do que b ou iguais) e retorne o valor do maior deles.\n",
        "    4. Modifique a função anterior para retornar uma tupla (tuple) ordenada, onde o primeiro elemento seja o menor e o segundo o maior. \n",
        "\n"
      ]
    },
    {
      "cell_type": "code",
      "metadata": {
        "id": "z9m-W3et_5N4",
        "outputId": "422421af-8021-442a-c8a8-feb369a180a7",
        "colab": {
          "base_uri": "https://localhost:8080/",
          "height": 329
        }
      },
      "source": [
        "from time import localtime\n",
        "\n",
        "#Aula 4\n",
        "def exercise_4_1():\n",
        "  def print_time():\n",
        "    now = localtime()\n",
        "    print(f\"A data de hoje em UTC é: {now.tm_mday}/{now.tm_mon}/{now.tm_year} às {now.tm_hour}:{now.tm_min}\\n\")\n",
        "    \n",
        "  print(\"Questão 1:\")\n",
        "  print_time()\n",
        "\n",
        "def exercise_4_2():\n",
        "  def loop_factorial(n):\n",
        "    if n:\n",
        "      factorial = 1\n",
        "      for i in range(1,n+1):\n",
        "        factorial *= i\n",
        "    else:\n",
        "      factorial = 1\n",
        "    return factorial\n",
        "\n",
        "  def recursive_factorial(n):\n",
        "    if (n == 1 or n == 0):\n",
        "      return 1\n",
        "    else:\n",
        "      return n*recursive_factorial(n-1)\n",
        "  \n",
        "  print(\"Questão 2:\")\n",
        "  n = int(input(\"Calcular fatorial de qual valor?: \"))\n",
        "  print(f\"Fatorial de {n} em loop: {loop_factorial(6)}, por recursão: {recursive_factorial(6)}\\n\")\n",
        "\n",
        "def exercise_4_3():\n",
        "  def compare(a,b):\n",
        "    if a > b:\n",
        "      print(\"{} > {}\".format(a,b))\n",
        "      return a\n",
        "    elif a == b:\n",
        "      print(\"{} = {}\".format(a,b))\n",
        "      return a\n",
        "    else:\n",
        "      print(\"{} < {}\".format(a,b))\n",
        "      return b\n",
        "    \n",
        "  print(\"Questão 3:\")\n",
        "  a, b = [float(x) for x in input(\"Digite dois valores para comparar: \").split()]\n",
        "  print(f\"O maior número entre {a} e {b} é: {compare(a, b)}\\n\")\n",
        "\n",
        "def exercise_4_4():\n",
        "  def compare(a,b):\n",
        "    if a > b:\n",
        "      print(\"{} > {}\".format(a,b))\n",
        "      return (b,a)\n",
        "    elif a == b:\n",
        "      print(\"{} = {}\".format(a,b))\n",
        "      return (a,b)\n",
        "    else:\n",
        "      print(\"{} < {}\".format(a,b))\n",
        "      return (a,b)\n",
        "    \n",
        "  print(\"Questão 4:\")\n",
        "  a, b = [float(x) for x in input(\"Digite dois valores para comparar: \").split()]\n",
        "  print(f\"Do menor ao maior: {compare(a, b)}\\n\")\n",
        "\n",
        "exercise_4_1()\n",
        "exercise_4_2()\n",
        "exercise_4_3()\n",
        "exercise_4_4()"
      ],
      "execution_count": 2,
      "outputs": [
        {
          "output_type": "stream",
          "text": [
            "Questão 1:\n",
            "A data de hoje em UTC é: 30/9/2020 às 15:40\n",
            "\n",
            "Questão 2:\n",
            "Calcular fatorial de qual valor?: 7\n",
            "Fatorial de 7 em loop: 720, por recursão: 720\n",
            "\n",
            "Questão 3:\n",
            "Digite dois valores para comparar: 2 3\n",
            "2.0 < 3.0\n",
            "O maior número entre 2.0 e 3.0 é: 3.0\n",
            "\n",
            "Questão 4:\n",
            "Digite dois valores para comparar: 4 5\n",
            "4.0 < 5.0\n",
            "Do menor ao maior: (4.0, 5.0)\n",
            "\n"
          ],
          "name": "stdout"
        }
      ]
    }
  ]
}