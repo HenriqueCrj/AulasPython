{
  "nbformat": 4,
  "nbformat_minor": 0,
  "metadata": {
    "colab": {
      "name": "Henrique_Aula_1.ipynb",
      "provenance": [],
      "collapsed_sections": [],
      "authorship_tag": "ABX9TyO1WjOcSgrrJib4lpVTZmPz",
      "include_colab_link": true
    },
    "kernelspec": {
      "name": "python3",
      "display_name": "Python 3"
    }
  },
  "cells": [
    {
      "cell_type": "markdown",
      "metadata": {
        "id": "view-in-github",
        "colab_type": "text"
      },
      "source": [
        "<a href=\"https://colab.research.google.com/github/HenriqueCrj/AulasPython/blob/master/Henrique_Aula_1.ipynb\" target=\"_parent\"><img src=\"https://colab.research.google.com/assets/colab-badge.svg\" alt=\"Open In Colab\"/></a>"
      ]
    },
    {
      "cell_type": "markdown",
      "metadata": {
        "id": "TLI7Dqj2-hJK",
        "colab_type": "text"
      },
      "source": [
        "\n",
        "\n",
        "    1. Se você fizer uma corrida de 10 quilômetros em 43 minutos e 30 segundos, qual será seu tempo médio por milha? Qual é a sua velocidade média em milhas por hora? (Dica: há 1,61 quilômetros em uma milha).\n",
        "    2. Desde sua varanda você escuta o som do primeiro fogo artificial do reveillon 3 segundos depois de ver a luz, qual a distância? (o som tem velocidade 343 m/s e a luz %$3\\times 10^8$% m/s).\n",
        "    3. Ache os zeros da função y = 3 *x^2 - 4 *x -10 \n",
        "    4. Se, ao meiodia, a sombra de um poste de 5 m de altura tem apenas 50 cm de comprimento no chão, qual o ângulo zenital do sol?\n",
        "    5. Calcule o seu %$IMC = \\dfrac{M}{A^2}$% (com a massa em Kg e a altura em metros). Um valor saudável estara --em geral-- entre 20-25. Um bebê de 6 meses \"gorducho\" tem 70 cm de \"comprimento\" e 11 kg de massa, qual o IMC dele?\n",
        "    6. Calcule a velocidade final de um objeto em queda livre a partir de 3 metros de altura (sem resistencia do ar). Calcule o tempo que esse objeto demora para cair. \n",
        "\n",
        "\n",
        "\n"
      ]
    },
    {
      "cell_type": "code",
      "metadata": {
        "id": "yqwGgd8XUfT7",
        "colab_type": "code",
        "colab": {
          "base_uri": "https://localhost:8080/",
          "height": 350
        },
        "outputId": "3e3d6bd9-ddd0-4297-e2bf-6fd4e87537ec"
      },
      "source": [
        "from math import sqrt,atan,pi\n",
        "\n",
        "#Aula 1\n",
        "mean_time_over_distance = (43*60+30)/(10/1.61)\n",
        "mean_speed = (10/1.61)/((43*60 + 30)/3600)\n",
        "print(\"Questão 1:\")\n",
        "print(f\"Tempo médio: {mean_time_over_distance:.4f} s/mi, velocidade média: {mean_speed:.4f} mi/h\\n\")\n",
        "\n",
        "distance = 343*3 \n",
        "print(\"Questão 2:\")\n",
        "print(f\"Distância até o fogo: {distance:.4f} m\\n\")\n",
        "\n",
        "delta = -4*-4 - 4*3*-10\n",
        "x1 = --4 + sqrt(delta)/(2*3)\n",
        "x2 = --4 - sqrt(delta)/(2*3)\n",
        "print(\"Questão 3:\")\n",
        "print(f\"A função 3x\\u00b2 - 4x - 10 possui as seguintes raízes: x\\u2081 = {x1:.4f} e x\\u2082 = {x2:.4f}\\n\")\n",
        "\n",
        "zenithal_angle = atan(0.5/5)\n",
        "print(\"Questão 4:\")\n",
        "print(f\"O ângulo zenital do sol é: {(zenithal_angle*180)/pi:.4f}\\u00b0\\n\")\n",
        "\n",
        "my_imc = 70/(1.8*1.8)\n",
        "baby_imc = 11/(0.7*0.7)\n",
        "print(\"Questão 5:\")\n",
        "print(f\"Meu IMC: {my_imc:.4f} kg/m\\u00b2, IMC do bebê: {baby_imc:.4f} kg/m\\u00b2\\n\")\n",
        "\n",
        "v_f = sqrt(2*9.8*3)\n",
        "print(\"Questão 6:\")\n",
        "print(f\"Velocidade final do objeto é: {v_f:.4f} m/s\\n\")"
      ],
      "execution_count": 3,
      "outputs": [
        {
          "output_type": "stream",
          "text": [
            "Questão 1:\n",
            "Tempo médio: 420.2100 s/mi, velocidade média: 8.5671 mi/h\n",
            "\n",
            "Questão 2:\n",
            "Distância até o fogo: 1029.0000 m\n",
            "\n",
            "Questão 3:\n",
            "A função 3x² - 4x - 10 possui as seguintes raízes: x₁ = 5.9437 e x₂ = 2.0563\n",
            "\n",
            "Questão 4:\n",
            "O ângulo zenital do sol é: 5.7106°\n",
            "\n",
            "Questão 5:\n",
            "Meu IMC: 21.6049 kg/m², IMC do bebê: 22.4490 kg/m²\n",
            "\n",
            "Questão 6:\n",
            "Velocidade final do objeto é: 7.6681 m/s\n",
            "\n"
          ],
          "name": "stdout"
        }
      ]
    }
  ]
}