{
  "nbformat": 4,
  "nbformat_minor": 0,
  "metadata": {
    "colab": {
      "name": "Henrique_Aula_1.ipynb",
      "provenance": [],
      "collapsed_sections": [],
      "authorship_tag": "ABX9TyNXaCv8U6b4mtE1E4xPAxVm",
      "include_colab_link": true
    },
    "kernelspec": {
      "name": "python3",
      "display_name": "Python 3"
    }
  },
  "cells": [
    {
      "cell_type": "markdown",
      "metadata": {
        "id": "view-in-github",
        "colab_type": "text"
      },
      "source": [
        "<a href=\"https://colab.research.google.com/github/HenriqueCrj/AulasPython/blob/master/Henrique_Aula_1.ipynb\" target=\"_parent\"><img src=\"https://colab.research.google.com/assets/colab-badge.svg\" alt=\"Open In Colab\"/></a>"
      ]
    },
    {
      "cell_type": "code",
      "metadata": {
        "id": "yqwGgd8XUfT7",
        "colab_type": "code",
        "colab": {
          "base_uri": "https://localhost:8080/",
          "height": 348
        },
        "outputId": "ab7467c9-8c4d-47a3-ed69-4f9746ac7fe1"
      },
      "source": [
        "from math import sqrt,atan,pi\n",
        "\n",
        "#Aula 1\n",
        "mean_time_over_distance = (43*60+30)/(10/1.61)\n",
        "mean_speed = (10/1.61)/((43*60 + 30)/3600)\n",
        "print(\"Questão 1:\")\n",
        "print(\"Tempo médio: {:.4f} s/mi, velocidade média: {:.4f} mi/h\\n\".format(mean_time_over_distance,mean_speed))\n",
        "\n",
        "distance = 343*3 \n",
        "print(\"Questão 2:\")\n",
        "print(\"Distância até o fogo: {:.4f} m\\n\".format(distance))\n",
        "\n",
        "delta = -4*-4 - 4*3*-10\n",
        "x1 = --4 + sqrt(delta)/(2*3)\n",
        "x2 = --4 - sqrt(delta)/(2*3)\n",
        "print(\"Questão 3:\")\n",
        "print(\"Essa função possui as seguintes raízes: x1 = {:.4f} e x2 = {:.4f}\\n\".format(x1,x2))\n",
        "\n",
        "zenithal_angle = atan(0.5/5)\n",
        "print(\"Questão 4:\")\n",
        "print(\"O ângulo zenital do sol é: {:.4f}\\u00b0\\n\".format((zenithal_angle*180)/pi))\n",
        "\n",
        "my_imc = 70/(1.8*1.8)\n",
        "baby_imc = 11/(0.7*0.7)\n",
        "print(\"Questão 5:\")\n",
        "print(\"Meu IMC: {:.4f} kg/m\\u00b2, IMC do bebê: {:.4f} kg/m\\u00b2\\n\".format(my_imc,baby_imc))\n",
        "\n",
        "v_f = sqrt(2*9.8*3)\n",
        "print(\"Questão 6:\")\n",
        "print(\"Velocidade final do objeto é: {:.4f} m/s\\n\".format(v_f))"
      ],
      "execution_count": null,
      "outputs": [
        {
          "output_type": "stream",
          "text": [
            "Questão 1:\n",
            "Tempo médio: 420.2100 s/mi, velocidade média: 8.5671 mi/h\n",
            "\n",
            "Questão 2:\n",
            "Distância até o fogo: 1029.0000 m\n",
            "\n",
            "Questão 3:\n",
            "Essa função possui as seguintes raízes: x1 = 5.9437 e x2 = 2.0563\n",
            "\n",
            "Questão 4:\n",
            "O ângulo zenital do sol é: 5.7106°\n",
            "\n",
            "Questão 5:\n",
            "Meu IMC: 21.6049 kg/m², IMC do bebê: 22.4490 kg/m²\n",
            "\n",
            "Questão 6:\n",
            "Velocidade final do objeto é: 7.6681 m/s\n",
            "\n"
          ],
          "name": "stdout"
        }
      ]
    }
  ]
}