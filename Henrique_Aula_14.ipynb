{
  "nbformat": 4,
  "nbformat_minor": 0,
  "metadata": {
    "colab": {
      "name": "Henrique_Aula_14.ipynb",
      "provenance": [],
      "collapsed_sections": [],
      "authorship_tag": "ABX9TyP+oI5PERIuepN8jnJO3gkq",
      "include_colab_link": true
    },
    "kernelspec": {
      "name": "python3",
      "display_name": "Python 3"
    }
  },
  "cells": [
    {
      "cell_type": "markdown",
      "metadata": {
        "id": "view-in-github",
        "colab_type": "text"
      },
      "source": [
        "<a href=\"https://colab.research.google.com/github/HenriqueCrj/AulasPython/blob/master/Henrique_Aula_14.ipynb\" target=\"_parent\"><img src=\"https://colab.research.google.com/assets/colab-badge.svg\" alt=\"Open In Colab\"/></a>"
      ]
    },
    {
      "cell_type": "code",
      "metadata": {
        "colab": {
          "base_uri": "https://localhost:8080/"
        },
        "id": "pPI3PVavlbNW",
        "outputId": "63be5beb-4f40-4783-b281-d77e5ee7c34d"
      },
      "source": [
        "class MeuTempo: \n",
        "    def __init__(self, hrs = 0, mins = 0, segs = 0): \n",
        "        \"\"\"Criar um novo objeto MeuTempo inicializado para hrs, min, segs. \n",
        "           Os valores de mins e segs podem estar fora do intervalo de 0-59, \n",
        "           mas o objecto MeuTempo resultante será normalizado.\"\"\" \n",
        "        self.totalsegs = hrs * 3600 + mins * 60 + segs \n",
        "        self.horas = self.totalsegs // 3600\n",
        "        restosegs = self.totalsegs % 3600 \n",
        "        self.minutos = restosegs // 60 \n",
        "        self.segundos = restosegs % 60\n",
        "        if self.horas >= 24:\n",
        "            self.horas = self.horas%24\n",
        "            \n",
        "    def to_seconds(self): \n",
        "        \"\"\"Retorna o número de segundos representados por esta instância\"\"\" \n",
        "        return self.totalsegs\n",
        "    \n",
        "    def entre(self, t1, t2): #Questão 2\n",
        "        \"\"\"Retorna True se o objeto invocando o método estiver entre dois tempos\"\"\"\n",
        "        \"\"\"Código que inclui o caso de t1 > t2\n",
        "        t1_sec = t1.to_seconds()\n",
        "        t2_sec = t2.to_seconds()\n",
        "        if t1_sec > t2_sec:\n",
        "            if t2_sec <= self.to_seconds() < t1_sec:\n",
        "                return True\n",
        "        else:\n",
        "            if t1_sec <= self.to_seconds() < t2_sec:\n",
        "                return True\n",
        "        return False\"\"\"\n",
        "        if t1.to_seconds() <= self.to_seconds() < t2.to_seconds():\n",
        "            return True\n",
        "        return False\n",
        "\n",
        "    def __add__(self, other): \n",
        "        \"\"\" Retorna a soma do tempo atual e outro, para utilizar com o simbolo +\"\"\"\n",
        "        return MeuTempo(0, 0, self.to_seconds() + other.to_seconds())\n",
        "\n",
        "    def __sub__(self, other):\n",
        "        \"\"\" Retorna a diferença entre o tempo atual e outro, para utilizar com o simbolo -\"\"\"\n",
        "        return MeuTempo(0, 0, self.to_seconds() - other.to_seconds())\n",
        "\n",
        "    def __gt__(self, other): #Questão 3\n",
        "        \"\"\"Retorna True se self for estritamente maior que time2\"\"\"\n",
        "        if self.to_seconds() > other.to_seconds():\n",
        "            return True\n",
        "        return False\n",
        "    \n",
        "    def __str__(self):\n",
        "        \"\"\"Retorna uma representação do objeto como string, legível para humanos.\"\"\"\n",
        "        return '%.2d:%.2d:%.2d' % (self.horas, self.minutos, self.segundos)\n",
        "\n",
        "def entre(obj, t1, t2): #Questão 1\n",
        "    if t1.to_seconds() <= obj.to_seconds() < t2.to_seconds():\n",
        "        return True\n",
        "    return False\n",
        "\n",
        "t1 = MeuTempo(10, 55, 12)\n",
        "t2 = MeuTempo(10, 48, 22)\n",
        "t3 = MeuTempo(10, 50, 22)\n",
        "print(f\"Diferença entre {t1} e {t2} = {t1 - t2}\\n\")\n",
        "print(\"Questão 1\")\n",
        "print(f\"{t3} está entre {t2} e {t1}? {entre(t3, t2, t1)}\\n\")\n",
        "print(\"Questão 2\")\n",
        "print(f\"{t3} está entre {t2} e {t1}? {t3.entre(t2, t1)}\\n\")\n",
        "print(\"Questão 3\")\n",
        "print(f\"{t1} > {t2}? {t1 > t2}\\n\")"
      ],
      "execution_count": 1,
      "outputs": [
        {
          "output_type": "stream",
          "text": [
            "Diferença entre 10:55:12 e 10:48:22 = 00:06:50\n",
            "\n",
            "Questão 1\n",
            "10:50:22 está entre 10:48:22 e 10:55:12? True\n",
            "\n",
            "Questão 2\n",
            "10:50:22 está entre 10:48:22 e 10:55:12? True\n",
            "\n",
            "Questão 3\n",
            "10:55:12 > 10:48:22? True\n",
            "\n"
          ],
          "name": "stdout"
        }
      ]
    },
    {
      "cell_type": "code",
      "metadata": {
        "id": "uTObpNRhu140"
      },
      "source": [
        "import turtle\n",
        "import random\n",
        "\n",
        "class TurtleGTX(turtle.Turtle): #Questões 4 e 5\n",
        "    def __init__(self):\n",
        "        super().__init__()\n",
        "        self.odometer = 0\n",
        "        self.tyres = True\n",
        "        \n",
        "    def forward(self, distance):\n",
        "        \"\"\"Chance de 1 em 20 do pneu quebrar antes de andar para frente. A função trocar_pneu será chamada se o pneu for quebrado.\"\"\"\n",
        "        if random.randint(0,19) == 0:\n",
        "            self.tyres = False\n",
        "        try:\n",
        "            if self.tyres:\n",
        "                super().forward(distance)\n",
        "                self.odometer += abs(distance)\n",
        "            else:\n",
        "                raise Exception(\"Broken tyres\")\n",
        "        except:\n",
        "            self.trocar_pneu()\n",
        "\n",
        "    def trocar_pneu(self):\n",
        "        \"\"\"Troca o pneu para o carro conseguir andar.\"\"\"\n",
        "        self.tyres = True\n",
        "        print(\"Broken tyre was changed\")\n",
        "        \n",
        "turt = TurtleGTX()\n",
        "for i in range(30): #Anda algumas vezes para ver se o pneu vai quebrar\n",
        "    turt.forward(10)\n",
        "    print(turt.odometer)"
      ],
      "execution_count": null,
      "outputs": []
    }
  ]
}