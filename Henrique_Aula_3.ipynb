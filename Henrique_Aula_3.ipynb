{
  "nbformat": 4,
  "nbformat_minor": 0,
  "metadata": {
    "colab": {
      "name": "Henrique_Aula_3.ipynb",
      "provenance": [],
      "collapsed_sections": [],
      "authorship_tag": "ABX9TyNNsDFUiTb52KbH51UzimRI",
      "include_colab_link": true
    },
    "kernelspec": {
      "name": "python3",
      "display_name": "Python 3"
    }
  },
  "cells": [
    {
      "cell_type": "markdown",
      "metadata": {
        "id": "view-in-github",
        "colab_type": "text"
      },
      "source": [
        "<a href=\"https://colab.research.google.com/github/HenriqueCrj/AulasPython/blob/master/Henrique_Aula_3.ipynb\" target=\"_parent\"><img src=\"https://colab.research.google.com/assets/colab-badge.svg\" alt=\"Open In Colab\"/></a>"
      ]
    },
    {
      "cell_type": "markdown",
      "metadata": {
        "id": "fln28I7SPWM7",
        "colab_type": "text"
      },
      "source": [
        "1. Crie uma funcão que tome um argumento e imprima o valor e o tipo dele.\n",
        "2. Crie uma função que calcule e imprima velocidade media de um objeto a partir de uma posição inicial, a final e o tempo transcorrido para um objeto em MRU. Também crie uma funcão que calcule e imprima a velocidade de um objeto a partir da aceleração constante e o tempo (MRUA) (p.ex. queda libre).\n",
        "3. Crie uma funcão para calcular o ángulo zenital do sol (da semana passada) tomando como argumento as medidas da altura e o comprimento da sombra.\n",
        "4. Crie uma função que faça a conversão de uma medida inicialmente em milhas para m, e outra para o inverso; uma de horas para segundos, e o inverso. Utilize estas funções para resolver novamente o primeiro exercício da semana passada (da corrida). Se uma pessoa demora 30 minutos em 4 milhas, qual velocidade media em km/h ? e o tempo medio por kilometro?\n",
        "5. Crie funções para calcular os outros exemplos das aulas anteriores: IMC, volume de uma esfera, distancia entre pontos de máximos de difração. Decida quais serão os argumentos e o valor retornado. "
      ]
    },
    {
      "cell_type": "code",
      "metadata": {
        "id": "UDShGmrUPPt9",
        "colab_type": "code",
        "colab": {
          "base_uri": "https://localhost:8080/",
          "height": 424
        },
        "outputId": "7aa04ab3-4dab-408f-ebe4-f6c187dd8bcd"
      },
      "source": [
        "from math import atan,pi\n",
        "\n",
        "#Aula 3\n",
        "def exercise_3_1():\n",
        "  def show_detail(x):\n",
        "    print(f\"Valor de x: {x}, do tipo {type(x)}\\n\")\n",
        "\n",
        "  print(\"Questão 1:\")\n",
        "  show_detail(4.3)\n",
        "\n",
        "def exercise_3_2():\n",
        "  def mean_speed(s_0,s_f,delta_t):\n",
        "    mean_speed = (s_f - s_0)/delta_t\n",
        "    print(f\"Velocidade média: {mean_speed:.4f} m/s\")\n",
        "\n",
        "  def free_fall_speed(v_0,a,delta_t):\n",
        "    v_f = v_0 + a*delta_t\n",
        "    print(f\"Velocidade final: {v_f:.4f} m/s\")\n",
        "\n",
        "  print(\"Questão 2:\")\n",
        "  s_0, s_f, delta_t = [float(x) for x in input(\"Entre com a posição inicial, posição final e tempo: \").split()]\n",
        "  mean_speed(s_0,s_f,delta_t)\n",
        "  v_0, a, delta_t = [float(x) for x in input(\"Entre com a velocidade inicial, aceleração e tempo: \").split()]\n",
        "  free_fall_speed(v_0,a,delta_t)\n",
        "  print(\"\\n\")\n",
        "\n",
        "def exercise_3_3():\n",
        "  def zenithal_angle(lenght,height):\n",
        "    zenithal_angle = atan(lenght/height)\n",
        "    return zenithal_angle\n",
        "\n",
        "  lenght, height = [float(x) for x in input(\"Digite o comprimento da sombra e altura do objeto: \").split()]\n",
        "  print(\"Questão 3:\")\n",
        "  print(f\"O ângulo zenital do sol é: {(zenithal_angle(lenght, height)*180)/pi:.4f}\\u00b0\\n\")\n",
        "\n",
        "def exercise_3_4():\n",
        "  def meters(miles):\n",
        "    meters = miles*1609.34\n",
        "    return meters\n",
        "\n",
        "  def miles(meters):\n",
        "    miles = meters/1609.34\n",
        "    return miles\n",
        "\n",
        "  def seconds(hours):\n",
        "    seconds = hours*3600\n",
        "    return seconds\n",
        "\n",
        "  def hours(seconds):\n",
        "    hours = seconds/3600\n",
        "    return hours\n",
        "\n",
        "  print(\"Questão 4:\")\n",
        "  mean_time_over_distance = (43*60+30)/miles(10000)\n",
        "  mean_speed = miles(10000)/hours(43*60 + 30)\n",
        "  print(f\"Tempo médio por milha: {mean_time_over_distance:.4f} s/mi, velocidade média por hora: {mean_speed:.4f} mi/h\")\n",
        "\n",
        "  mean_speed = (meters(4)/1000)/hours(30*60)\n",
        "  mean_time_over_distance = 1/mean_speed\n",
        "  print(f\"Velocidade média: {mean_speed:.4f} km/h, tempo médio: {mean_time_over_distance:.4f} h/km\\n\")\n",
        "\n",
        "def exercise_3_5():\n",
        "  def imc(mass,height):\n",
        "    imc = mass/(height*height)\n",
        "    return imc\n",
        "\n",
        "  def sphere_volume(r):\n",
        "    volume = (4*pi*r*r*r)/3\n",
        "    return volume\n",
        "\n",
        "  def max_diffraction_dist(wave_lenght,D,d):\n",
        "    delta_y = wave_lenght*D/d\n",
        "    return delta_y\n",
        "\n",
        "  print(\"Questão 5:\")\n",
        "  print(f\"Meu IMC: {imc(70,1.8):.4f} kg/m\\u00b2, IMC do bebê: {imc(11,0.7):.4f} kg/m\\u00b2\")\n",
        "  print(f\"O volume da esfera é: {sphere_volume(5):.4f} [V]\\u00b3\")\n",
        "  print(f\"Distância entre os pontos máximos de difração: \\u0394y = {max_diffraction_dist(632.8E-6,1980,0.25):.4f} mm\")\n",
        "\n",
        "exercise_3_1()\n",
        "exercise_3_2()\n",
        "exercise_3_3()\n",
        "exercise_3_4()\n",
        "exercise_3_5()"
      ],
      "execution_count": 1,
      "outputs": [
        {
          "output_type": "stream",
          "text": [
            "Questão 1:\n",
            "Valor de x: 4.3, do tipo <class 'float'>\n",
            "\n",
            "Questão 2:\n",
            "Entre com a posição inicial, posição final e tempo: 2 8 10\n",
            "Velocidade média: 0.6000 m/s\n",
            "Entre com a velocidade inicial, aceleração e tempo: 0 9.8 2\n",
            "Velocidade final: 19.6000 m/s\n",
            "\n",
            "\n",
            "Digite o comprimento da sombra e altura do objeto: 0.5 5\n",
            "Questão 3:\n",
            "O ângulo zenital do sol é: 5.7106°\n",
            "\n",
            "Questão 4:\n",
            "Tempo médio por milha: 420.0377 s/mi, velocidade média por hora: 8.5707 mi/h\n",
            "Velocidade média: 12.8747 km/h, tempo médio: 0.0777 h/km\n",
            "\n",
            "Questão 5:\n",
            "Meu IMC: 21.6049 kg/m², IMC do bebê: 22.4490 kg/m²\n",
            "O volume da esfera é: 523.5988 [V]³\n",
            "Distância entre os pontos máximos de difração: Δy = 5.0118 mm\n"
          ],
          "name": "stdout"
        }
      ]
    }
  ]
}