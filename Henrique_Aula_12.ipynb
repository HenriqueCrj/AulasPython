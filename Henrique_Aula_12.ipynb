{
  "nbformat": 4,
  "nbformat_minor": 0,
  "metadata": {
    "colab": {
      "name": "Henrique_Aula_12.ipynb",
      "provenance": [],
      "collapsed_sections": [],
      "authorship_tag": "ABX9TyNO0ddJrIB9cpTmnGUtkUZK",
      "include_colab_link": true
    },
    "kernelspec": {
      "name": "python3",
      "display_name": "Python 3"
    }
  },
  "cells": [
    {
      "cell_type": "markdown",
      "metadata": {
        "id": "view-in-github",
        "colab_type": "text"
      },
      "source": [
        "<a href=\"https://colab.research.google.com/github/HenriqueCrj/AulasPython/blob/master/Henrique_Aula_12.ipynb\" target=\"_parent\"><img src=\"https://colab.research.google.com/assets/colab-badge.svg\" alt=\"Open In Colab\"/></a>"
      ]
    },
    {
      "cell_type": "markdown",
      "metadata": {
        "id": "oESled9ZBUZO"
      },
      "source": [
        "1) Escreva uma função que calcula a distância entre dois pontos no plano cartesiano, usando a classe Ponto que fizemos nessa aula.\n",
        "\n",
        "2) Adicione um método reflexao_x à classe Ponto que retorna uma instância de Ponto, que é o reflexo do Ponto sobre o eixo x. Por exemplo\n",
        "\n",
        "Ponto(3,5).reflexao_x()\n",
        "\n",
        "deve dar (3, -5).\n",
        "\n",
        "3) Adicione um método inclinacao_da_origem à classe Ponto, que retorne a inclinação da linha que une a origem ao Ponto. Por exemplo\n",
        "\n",
        "from Ponto import *\n",
        "print(Ponto(4, 10).inclinacao_origem())\n",
        "\n",
        "deve dar 2.5. O que pode dar errado com esse programa?\n",
        "\n",
        "4) A equação de uma linha reta é y = ax + b. Os coeficientes a e b descrevem completamente a linha. Escreva um método na classe Ponto para que, se uma instância Ponto receber outro Ponto, calcule a equação da linha reta que une os dois pontos. Deve retornar os dois coeficientes como uma tupla de dois valores. Por exemplo,\n",
        "\n",
        "from Ponto import *\n",
        "print(Ponto(4,11).parametros_reta(Ponto(6,15)))\n",
        "\n",
        "deve dar como resultado (2.0, 3.0).\n",
        "\n",
        "O resultado acima nos diz que a equação da reta é y = 2x + 3. Quando esse método falha?\n"
      ]
    },
    {
      "cell_type": "code",
      "metadata": {
        "id": "cjDykjso_ACW",
        "colab": {
          "base_uri": "https://localhost:8080/"
        },
        "outputId": "0abe132f-29a7-47cc-bd16-72356c1e92e3"
      },
      "source": [
        "#Aula 8\n",
        "import math\n",
        "import turtle\n",
        "\n",
        "class Ponto:\n",
        "    \"\"\" Cria um novo Ponto, com coordenadas x, y \"\"\"\n",
        "\n",
        "    def __init__(self, x=0, y=0):\n",
        "      \"\"\" Inicializa em x, y o novo ponto criado pela classe \"\"\"\n",
        "      self.x = x\n",
        "      self.y = y\n",
        "\n",
        "    def distancia_da_origem(self):\n",
        "      \"\"\" Calcula minha distânica da origem \"\"\"\n",
        "      return ((self.x ** 2) + (self.y ** 2)) ** 0.5\n",
        "\n",
        "    def ponto_medio(self, alvo):\n",
        "      \"\"\" Retorna o ponto medio entre esse ponto e o alvo \"\"\"\n",
        "      mx = (self.x + alvo.x)/2\n",
        "      my = (self.y + alvo.y)/2\n",
        "      return Ponto(mx, my)\n",
        "\n",
        "    def reflexao_x(self): #Questão 2\n",
        "      \"\"\" Reflete o ponto sobre o eixo x \"\"\"\n",
        "      return Ponto(-self.x,self.y)\n",
        "\n",
        "    def inclinacao_origem(self): #Questão 3\n",
        "      \"\"\" Calcula a inclinação do ponto em relação à origem \"\"\"\n",
        "      if self.x:\n",
        "        return self.y/self.x\n",
        "      else:\n",
        "        return float(\"inf\") if self.y > 0 else float(\"-inf\")\n",
        "\n",
        "    def parametros_reta(self, alvo): #Questão 4\n",
        "      \"\"\" Calcula a e b da reta que une os pontos \"\"\"\n",
        "      a = Ponto((alvo.x - self.x),(alvo.y - self.y)).inclinacao_origem() #vetor relativo entre os pontos\n",
        "      if a == float(\"inf\") or a == float(\"-inf\"):\n",
        "        return (a,\"Nao existe\")\n",
        "      else:\n",
        "        b = self.y - a*self.x\n",
        "        return (a,b)\n",
        "\n",
        "    def __str__(self):\n",
        "      return f\"({self.x}, {self.y})\"\n",
        "\n",
        "def distancia_ao_ponto(ponto, alvo): #Questão 1\n",
        "    return ((alvo.x - ponto.x) ** 2 + (alvo.y - ponto.y) ** 2) ** 0.5\n",
        "\n",
        "print(\"Questão 2\")\n",
        "print(f\"{Ponto(3,5).reflexao_x()}\\n\")\n",
        "print(\"Questão 3\")\n",
        "print(f\"{Ponto(4, 10).inclinacao_origem()}\\n\")\n",
        "print(\"Questão 4\")\n",
        "print(f\"{Ponto(4,11).parametros_reta(Ponto(6,15))}\\n\")\n",
        "print(\"O método parametros_reta falha no caso de um ponto possuir a mesma coordenada x do outro, pois nesse caso a reta é vertical e o coeficiente angular é infinito.\")"
      ],
      "execution_count": 1,
      "outputs": [
        {
          "output_type": "stream",
          "text": [
            "Questão 2\n",
            "(-3, 5)\n",
            "\n",
            "Questão 3\n",
            "2.5\n",
            "\n",
            "Questão 4\n",
            "(2.0, 3.0)\n",
            "\n",
            "O método parametros_reta falha no caso de um ponto possuir a mesma coordenada x do outro, pois nesse caso a reta é vertical e o coeficiente angular é infinito.\n"
          ],
          "name": "stdout"
        }
      ]
    }
  ]
}