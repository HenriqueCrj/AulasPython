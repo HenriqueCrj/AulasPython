{
  "nbformat": 4,
  "nbformat_minor": 0,
  "metadata": {
    "colab": {
      "name": "Henrique_Aula_11.ipynb",
      "provenance": [],
      "authorship_tag": "ABX9TyNYGAoY0fJ1gNbxtK1P6sgC",
      "include_colab_link": true
    },
    "kernelspec": {
      "name": "python3",
      "display_name": "Python 3"
    }
  },
  "cells": [
    {
      "cell_type": "markdown",
      "metadata": {
        "id": "view-in-github",
        "colab_type": "text"
      },
      "source": [
        "<a href=\"https://colab.research.google.com/github/HenriqueCrj/AulasPython/blob/master/Henrique_Aula_11.ipynb\" target=\"_parent\"><img src=\"https://colab.research.google.com/assets/colab-badge.svg\" alt=\"Open In Colab\"/></a>"
      ]
    },
    {
      "cell_type": "code",
      "metadata": {
        "id": "zaURuSiFlb1w",
        "outputId": "fc961a0f-5658-4855-f650-937f790a4901",
        "colab": {
          "base_uri": "https://localhost:8080/"
        }
      },
      "source": [
        "#Questão 1 a)\n",
        "def create_matrix():\n",
        "    matrix = {}\n",
        "    for i in range(5):\n",
        "        for j in range(5):\n",
        "            matrix[(i,j)] = 0\n",
        "    matrix[(0,3)] = 1\n",
        "    matrix[(2,1)] = 2\n",
        "    matrix[(4,3)] = 3\n",
        "    return matrix\n",
        "\n",
        "def print_matrix(matrix):\n",
        "    for i in range(5):\n",
        "        print(\"|\",end=\"\")\n",
        "        for j in range(5):\n",
        "            print(matrix.get((i,j)),end=\"\")\n",
        "        print(\"|\\n\")\n",
        "\n",
        "matrix = create_matrix()\n",
        "print_matrix(matrix)"
      ],
      "execution_count": 1,
      "outputs": [
        {
          "output_type": "stream",
          "text": [
            "|00010|\n",
            "\n",
            "|00000|\n",
            "\n",
            "|02000|\n",
            "\n",
            "|00000|\n",
            "\n",
            "|00030|\n",
            "\n"
          ],
          "name": "stdout"
        }
      ]
    },
    {
      "cell_type": "code",
      "metadata": {
        "id": "C9ECqMRN3YPl",
        "outputId": "d68e0891-23ca-42b8-dad0-298989250e78",
        "colab": {
          "base_uri": "https://localhost:8080/"
        }
      },
      "source": [
        "#Questão 1 b)\n",
        "import numpy as np\n",
        "\n",
        "np_matrix = np.zeros(shape=(5,5))\n",
        "np_matrix[0,3] = 1\n",
        "np_matrix[2,1] = 2\n",
        "np_matrix[4,3] = 3\n",
        "print(np_matrix)"
      ],
      "execution_count": 2,
      "outputs": [
        {
          "output_type": "stream",
          "text": [
            "[[0. 0. 0. 1. 0.]\n",
            " [0. 0. 0. 0. 0.]\n",
            " [0. 2. 0. 0. 0.]\n",
            " [0. 0. 0. 0. 0.]\n",
            " [0. 0. 0. 3. 0.]]\n"
          ],
          "name": "stdout"
        }
      ]
    },
    {
      "cell_type": "code",
      "metadata": {
        "id": "NX_nnBiElhTb",
        "outputId": "b84b6e1d-39e0-4d6b-80b2-bfbf61876667",
        "colab": {
          "base_uri": "https://localhost:8080/"
        }
      },
      "source": [
        "#Questão 2 a)\n",
        "\n",
        "def frequency_table(string):\n",
        "    \"\"\"Calcula a tabela de frequências\n",
        "    Args:\n",
        "        string: texto\n",
        "    Returns:\n",
        "        dictionary: dicionário contendo a tabela de frequências\n",
        "    \"\"\"\n",
        "    dictionary = {}\n",
        "    for letter in string.replace(\" \",\"\"):\n",
        "        dictionary[letter] = dictionary.get(letter,0) + 1\n",
        "    return dictionary\n",
        "\n",
        "table = frequency_table(\"paralelepipedo\")\n",
        "print(table)"
      ],
      "execution_count": 3,
      "outputs": [
        {
          "output_type": "stream",
          "text": [
            "{'p': 3, 'a': 2, 'r': 1, 'l': 2, 'e': 3, 'i': 1, 'd': 1, 'o': 1}\n"
          ],
          "name": "stdout"
        }
      ]
    },
    {
      "cell_type": "code",
      "metadata": {
        "id": "p94GiZ_65JZE",
        "outputId": "3031e1b4-dc12-45e8-d059-e048d45d6feb",
        "colab": {
          "base_uri": "https://localhost:8080/"
        }
      },
      "source": [
        "#Questão 2 b)\n",
        "def order_table(table):\n",
        "    \"\"\"Ordena uma tabela de frequências\n",
        "    Args:\n",
        "        table: tabela de frequências\n",
        "    Returns:\n",
        "        ordered_list: lista com a tabela de frequências ordenada\n",
        "    \"\"\"\n",
        "    ordered_list = []\n",
        "    for (key,value) in table.items():\n",
        "        ordered_list.append([key,value])\n",
        "    ordered_list.sort()\n",
        "    return ordered_list\n",
        "\n",
        "print(order_table(table))"
      ],
      "execution_count": 4,
      "outputs": [
        {
          "output_type": "stream",
          "text": [
            "[['a', 2], ['d', 1], ['e', 3], ['i', 1], ['l', 2], ['o', 1], ['p', 3], ['r', 1]]\n"
          ],
          "name": "stdout"
        }
      ]
    },
    {
      "cell_type": "code",
      "metadata": {
        "id": "_flsQpsuliey",
        "outputId": "a75580a0-9004-4aa1-ff4d-3185848cacee",
        "colab": {
          "base_uri": "https://localhost:8080/"
        }
      },
      "source": [
        "#Questão 3\n",
        "def ordered_frequency_table(string):\n",
        "    \"\"\"Calcula a tabela de frequências ordenada\n",
        "    Args:\n",
        "        string: texto\n",
        "    Returns:\n",
        "        lista com a tabela de frequências ordenada\n",
        "    \"\"\"\n",
        "    table = frequency_table(string.lower())\n",
        "    return order_table(table)\n",
        "\n",
        "\n",
        "alphabeticaly_ordered_list = ordered_frequency_table(\"ThiS is String with Upper and lower case Letters\")\n",
        "for letter in alphabeticaly_ordered_list:\n",
        "    print(letter) "
      ],
      "execution_count": 5,
      "outputs": [
        {
          "output_type": "stream",
          "text": [
            "['a', 2]\n",
            "['c', 1]\n",
            "['d', 1]\n",
            "['e', 5]\n",
            "['g', 1]\n",
            "['h', 2]\n",
            "['i', 4]\n",
            "['l', 2]\n",
            "['n', 2]\n",
            "['o', 1]\n",
            "['p', 2]\n",
            "['r', 4]\n",
            "['s', 5]\n",
            "['t', 5]\n",
            "['u', 1]\n",
            "['w', 2]\n"
          ],
          "name": "stdout"
        }
      ]
    }
  ]
}