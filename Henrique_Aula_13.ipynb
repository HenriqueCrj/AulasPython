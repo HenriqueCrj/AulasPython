{
  "nbformat": 4,
  "nbformat_minor": 0,
  "metadata": {
    "colab": {
      "name": "Henrique_Aula_13.ipynb",
      "provenance": [],
      "authorship_tag": "ABX9TyO4i2lWaDnf5Grq7h5BPbQU",
      "include_colab_link": true
    },
    "kernelspec": {
      "name": "python3",
      "display_name": "Python 3"
    }
  },
  "cells": [
    {
      "cell_type": "markdown",
      "metadata": {
        "id": "view-in-github",
        "colab_type": "text"
      },
      "source": [
        "<a href=\"https://colab.research.google.com/github/HenriqueCrj/AulasPython/blob/master/Henrique_Aula_13.ipynb\" target=\"_parent\"><img src=\"https://colab.research.google.com/assets/colab-badge.svg\" alt=\"Open In Colab\"/></a>"
      ]
    },
    {
      "cell_type": "markdown",
      "metadata": {
        "id": "kALvm0Z4-y0H"
      },
      "source": [
        "1) Escreva uma função que calcula a distância entre dois pontos no plano cartesiano, usando a classe Ponto que fizemos nessa aula.\n",
        "\n",
        "2) Adicione um método reflexao_x à classe Ponto que retorna uma instância de Ponto, que é o reflexo do Ponto sobre o eixo x. Por exemplo\n",
        "\n",
        "Ponto(3,5).reflexao_x()\n",
        "\n",
        "deve dar (3, -5).\n",
        "\n",
        "3) Adicione um método inclinacao_da_origem à classe Ponto, que retorne a inclinação da linha que une a origem ao Ponto. Por exemplo\n",
        "\n",
        "from Ponto import *\n",
        "print(Ponto(4, 10).inclinacao_origem())\n",
        "\n",
        "deve dar 2.5. O que pode dar errado com esse programa?\n",
        "\n",
        "4) A equação de uma linha reta é y = ax + b. Os coeficientes a e b descrevem completamente a linha. Escreva um método na classe Ponto para que, se uma instância Ponto receber outro Ponto, calcule a equação da linha reta que une os dois pontos. Deve retornar os dois coeficientes como uma tupla de dois valores. Por exemplo,\n",
        "\n",
        "from Ponto import *\n",
        "print(Ponto(4,11).parametros_reta(Ponto(6,15)))\n",
        "\n",
        "deve dar como resultado (2.0, 3.0).\n",
        "\n",
        "O resultado acima nos diz que a equação da reta é y = 2x + 3. Quando esse método falha?\n",
        "\n",
        "5) Usando a classe Ponto criada na última aula escreva uma classe Retangulo. A definição da classe Retangulo é: Dica: use o método criado no exercício 1).\n",
        "In [7]:\n",
        "\n",
        "class Rectangle:\n",
        "    \"\"\"Representa um retangulo. \n",
        "\n",
        "    atributos: \n",
        "    - largura, do tipo float\n",
        "    - altura, do tipo float \n",
        "    - canto, do tipo Ponto.\n",
        "    \"\"\"\n",
        "\n",
        "6) Escreva uma definição para uma classe chamada Circulo com atributos centro e raio, em que centro é um objeto do tipo Ponto e raio é um número.\n",
        "\n",
        "    .Instancie um objeto Circulo que represente um círculo com seu centro em (150, 100) e raio 75 e imprima na tela as coordenadas (x,y) do centro do círculo.\n",
        "    .Escreva uma função chamada ponto_no_circulo que use um Circulo e um Ponto e retorne True se o Ponto estiver dentro do círculo ou no limite do mesmo.\n",
        "\n",
        "7) Escreva uma função chamada desenhar_ret que use um objeto Turtle e um Retangulo e use o Turtle para desenhar o retângulo.\n",
        "\n",
        "8) Escreva uma função chamada desenhar_circulo que use uma Turtle e um Circulo e desenhe o Circulo."
      ]
    },
    {
      "cell_type": "code",
      "metadata": {
        "colab": {
          "base_uri": "https://localhost:8080/"
        },
        "id": "Ic1wsaRJ-qfV",
        "outputId": "93c8f2ec-c574-48e2-cf8f-f10c060866e0"
      },
      "source": [
        "import math\n",
        "\n",
        "class Ponto:\n",
        "    \"\"\" Cria um novo Ponto, com coordenadas x, y \"\"\"\n",
        "\n",
        "    def __init__(self, x=0, y=0):\n",
        "      \"\"\" Inicializa em x, y o novo ponto criado pela classe \"\"\"\n",
        "      self.x = x\n",
        "      self.y = y\n",
        "\n",
        "    def distancia_da_origem(self):\n",
        "      \"\"\" Calcula minha distânica da origem \"\"\"\n",
        "      return ((self.x ** 2) + (self.y ** 2)) ** 0.5\n",
        "\n",
        "    def ponto_medio(self, alvo):\n",
        "      \"\"\" Retorna o ponto medio entre esse ponto e o alvo \"\"\"\n",
        "      mx = (self.x + alvo.x)/2\n",
        "      my = (self.y + alvo.y)/2\n",
        "      return Ponto(mx, my)\n",
        "\n",
        "    def reflexao_x(self): #Questão 2\n",
        "      \"\"\" Reflete o ponto sobre o eixo x \"\"\"\n",
        "      return Ponto(self.x,-self.y)\n",
        "\n",
        "    def inclinacao_origem(self): #Questão 3\n",
        "      \"\"\" Calcula a inclinação do ponto em relação à origem \"\"\"\n",
        "      if self.x:\n",
        "        return self.y/self.x\n",
        "      else:\n",
        "        return float(\"inf\") if self.y > 0 else float(\"-inf\")\n",
        "\n",
        "    def parametros_reta(self, alvo): #Questão 4\n",
        "      \"\"\" Calcula a e b da reta que une os pontos \"\"\"\n",
        "      a = Ponto((alvo.x - self.x),(alvo.y - self.y)).inclinacao_origem()\n",
        "      if a == float(\"inf\") or a == float(\"-inf\"):\n",
        "        return (a,\"Nao existe\")\n",
        "      else:\n",
        "        b = self.y - a*self.x\n",
        "        return (a,b)\n",
        "\n",
        "    def __str__(self):\n",
        "      return f\"({self.x}, {self.y})\"\n",
        "\n",
        "def distancia_ao_ponto(ponto, alvo): #Questão 1\n",
        "    return ((alvo.x - ponto.x) ** 2 + (alvo.y - ponto.y) ** 2) ** 0.5\n",
        "\n",
        "print(\"Questão 2\")\n",
        "print(f\"{Ponto(3,5).reflexao_x()}\\n\")\n",
        "print(\"Questão 3\")\n",
        "print(f\"{Ponto(4, 10).inclinacao_origem()}\\n\")\n",
        "print(\"Questão 4\")\n",
        "print(f\"{Ponto(4,11).parametros_reta(Ponto(6,15))}\\n\")"
      ],
      "execution_count": null,
      "outputs": [
        {
          "output_type": "stream",
          "text": [
            "Questão 2\n",
            "(-3, 5)\n",
            "\n",
            "Questão 3\n",
            "2.5\n",
            "\n",
            "Questão 4\n",
            "(2.0, 3.0)\n",
            "\n"
          ],
          "name": "stdout"
        }
      ]
    },
    {
      "cell_type": "code",
      "metadata": {
        "id": "ykTB7yHZ-QTI"
      },
      "source": [
        "class Retangulo: #Questão 5\n",
        "    \"\"\"Representa um retangulo. \n",
        "\n",
        "    atributos: \n",
        "    - largura, do tipo float. Default = 1.\n",
        "    - altura, do tipo float. Default = 1.\n",
        "    - canto, do tipo Ponto. Default = Ponto(0,0).\n",
        "    \"\"\"\n",
        "\n",
        "    def __init__(self, ponto=Ponto(0,0), largura=1, altura=1):\n",
        "        self.largura = largura\n",
        "        self.altura = altura\n",
        "        self.canto = ponto\n",
        "\n",
        "    def __str__(self):\n",
        "      return f\"{self.canto.x,self.canto.y + self.altura}. .{self.canto.x + self.largura,self.canto.y + self.altura}\\n{self.canto}. .{self.canto.x + self.largura,self.canto.y}\""
      ],
      "execution_count": null,
      "outputs": []
    },
    {
      "cell_type": "code",
      "metadata": {
        "colab": {
          "base_uri": "https://localhost:8080/"
        },
        "id": "-laHvF9c-a5u",
        "outputId": "6856eda8-30b7-4297-ec8e-511a7d2beead"
      },
      "source": [
        "class Circulo: #Questão 6\n",
        "    \"\"\"Representa um circulo\n",
        "\n",
        "    atributos:\n",
        "    - centro, do tipo Ponto. Default = Ponto(0,0).\n",
        "    - raio, do tipo float. Default = 1.\n",
        "    \"\"\"\n",
        "\n",
        "    def __init__(self, ponto=Ponto(0,0), raio=1):\n",
        "        self.centro = ponto\n",
        "        self.raio = raio\n",
        "\n",
        "    def __str__(self):\n",
        "      return f\"C = {self.centro} , R = {self.raio}\"\n",
        "\n",
        "def ponto_no_circulo(circulo, ponto):\n",
        "    if distancia_ao_ponto(circulo.centro, ponto) <= circulo.raio:\n",
        "        return True\n",
        "    return False\n",
        "\n",
        "circulo = Circulo(Ponto(150, 100),75)\n",
        "print(circulo)\n",
        "print(ponto_no_circulo(circulo, Ponto(130,45)))"
      ],
      "execution_count": null,
      "outputs": [
        {
          "output_type": "stream",
          "text": [
            "C = (150, 100) , R = 75\n",
            "True\n"
          ],
          "name": "stdout"
        }
      ]
    },
    {
      "cell_type": "code",
      "metadata": {
        "id": "x2SsWpjr-dVd"
      },
      "source": [
        "import turtle\n",
        "def desenhar_ret(turt, retangulo): #Questão 7\n",
        "    turt.hideturtle()\n",
        "    turt.penup()\n",
        "    turt.setheading(0)\n",
        "    turt.goto(retangulo.canto)\n",
        "    turt.showturtle()\n",
        "    turt.pendown()\n",
        "    for i in range(2):\n",
        "        turt.forward(retangulo.largura)\n",
        "        turt.left(90)\n",
        "        turt.forward(retangulo.altura)\n",
        "        turt.left(90)\n",
        "    turt.hideturtle()\n",
        "\n",
        "turt = turtle.Turtle()\n",
        "desenhar_ret(turt, Retangulo(Ponto(2,1),100,20))"
      ],
      "execution_count": null,
      "outputs": []
    },
    {
      "cell_type": "code",
      "metadata": {
        "id": "W8jiYXq3-jAl"
      },
      "source": [
        "def desenhar_circulo(turt, circulo): #Questão 8\n",
        "    turt.hideturtle()\n",
        "    turt.penup()\n",
        "    turt.setheading(0)\n",
        "    turt.goto(circulo.centro.x,circulo.centro.y - circulo.raio)\n",
        "    turt.showturtle()\n",
        "    turt.pendown()\n",
        "    turt.circle(circulo.raio)\n",
        "    turt.hideturtle()\n",
        "\n",
        "turt = turtle.Turtle()\n",
        "desenhar_circulo(turt, Circulo(Ponto(20,60),20))\n",
        "desenhar_circulo(turt, Circulo(Ponto(80,60),20))\n",
        "desenhar_circulo(turt, Circulo(Ponto(40,35),80))"
      ],
      "execution_count": null,
      "outputs": []
    }
  ]
}