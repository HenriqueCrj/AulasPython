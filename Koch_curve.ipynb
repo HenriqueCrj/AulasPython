{
  "nbformat": 4,
  "nbformat_minor": 0,
  "metadata": {
    "colab": {
      "name": "Koch_curve.ipynb",
      "provenance": [],
      "authorship_tag": "ABX9TyNPVrji5AX5jtNtesb7QKCC",
      "include_colab_link": true
    },
    "kernelspec": {
      "name": "python3",
      "display_name": "Python 3"
    }
  },
  "cells": [
    {
      "cell_type": "markdown",
      "metadata": {
        "id": "view-in-github",
        "colab_type": "text"
      },
      "source": [
        "<a href=\"https://colab.research.google.com/github/HenriqueCrj/AulasPython/blob/master/Koch_curve.ipynb\" target=\"_parent\"><img src=\"https://colab.research.google.com/assets/colab-badge.svg\" alt=\"Open In Colab\"/></a>"
      ]
    },
    {
      "cell_type": "markdown",
      "metadata": {
        "id": "Z_QEi2Xn2Sxc"
      },
      "source": [
        "5. Para desenhar uma curva de Koch com o comprimento x, tudo o que você tem que fazer é:\n",
        "\n",
        "    Desenhe uma curva de Koch com o comprimento x/3.\n",
        "\n",
        "    Vire 60 graus à esquerda.\n",
        "\n",
        "    Desenhe uma curva de Koch com o comprimento x/3.\n",
        "\n",
        "    Vire 120 graus à direita.\n",
        "\n",
        "    Desenhe uma curva de Koch com o comprimento x/3.\n",
        "\n",
        "    Vire 60 graus à esquerda.\n",
        "\n",
        "    Desenhe uma curva de Koch com o comprimento x/3.\n",
        "\n",
        "A exceção é se x for menor que 3: neste caso, você pode desenhar apenas uma linha reta com o comprimento x.\n",
        "\n",
        "    1. Escreva uma função chamada koch que receba um ColabTurtle (ou turtle) e um comprimento como parâmetros, e use o ColabTurtle para desenhar uma curva de Koch com o comprimento dado.\n",
        "\n",
        "    2. Escreva uma função chamada snowflake que desenhe três curvas de Koch para fazer o traçado de um floco de neve.\n",
        "\n",
        "    3. A curva de Koch pode ser generalizada de vários modos. Veja exemplos em http://en.wikipedia.org/wiki/Koch_snowflake e implemente o seu favorito.\n"
      ]
    },
    {
      "cell_type": "code",
      "metadata": {
        "id": "0E_VQrNF2Mkn"
      },
      "source": [
        "#Questão 1\n",
        "import turtle\n",
        "\n",
        "def koch(turt, length):\n",
        "    \"\"\"Elemento que se repete no fractal\n",
        "    Args:\n",
        "        turt: instãncia de tartaruga\n",
        "        length: comprimento\n",
        "    \"\"\"\n",
        "    if length < 3:\n",
        "        turt.forward(length)\n",
        "        return\n",
        "    koch(turt, length/3)\n",
        "    turt.left(60)\n",
        "    koch(turt, length/3)\n",
        "    turt.right(120)\n",
        "    koch(turt, length/3)\n",
        "    turt.left(60)\n",
        "    koch(turt, length/3)\n",
        "\n",
        "turt = turtle.Turtle()\n",
        "turt.speed(10)\n",
        "koch(turt, 50)"
      ],
      "execution_count": null,
      "outputs": []
    },
    {
      "cell_type": "code",
      "metadata": {
        "id": "WMN49MWlgSbH"
      },
      "source": [
        "#Questão 2\n",
        "import turtle\n",
        "\n",
        "def koch(turt, length):\n",
        "    \"\"\"Elemento que se repete no fractal\n",
        "        Args:\n",
        "        turt: instãncia de tartaruga\n",
        "        length: comprimento\n",
        "    \"\"\"\n",
        "    if length < 3:\n",
        "        turt.forward(length)\n",
        "        return\n",
        "    koch(turt, length/3)\n",
        "    turt.left(60)\n",
        "    koch(turt, length/3)\n",
        "    turt.right(120)\n",
        "    koch(turt, length/3)\n",
        "    turt.left(60)\n",
        "    koch(turt, length/3)\n",
        "\n",
        "def snowflake(length):\n",
        "    \"\"\"Cria um floco de neve\n",
        "    Args:\n",
        "        length: comprimento\n",
        "    \"\"\"\n",
        "    turt = turtle.Turtle()\n",
        "    turt.speed(10)\n",
        "    koch(turt, length)\n",
        "    turt.right(120)\n",
        "    koch(turt, length)\n",
        "    turt.right(120)\n",
        "    koch(turt, length)\n",
        "  \n",
        "snowflake(50)"
      ],
      "execution_count": null,
      "outputs": []
    },
    {
      "cell_type": "code",
      "metadata": {
        "id": "i4GHaJSaljQ9"
      },
      "source": [
        "#Questão 3\n",
        "import turtle\n",
        "\n",
        "\"\"\"\n",
        "Até onde percebi a quantidade de iterações do fractal \n",
        "obedece algumas regras em relação ao comprimento.\n",
        "Aqui n é o número de iterações.\n",
        "Para comprimento = 0, n = 0.\n",
        "Para 0 < |comprimento| <= 1 , n = 1.\n",
        "Para |comprimento| > 1 , a seguinte desigualdade é obedecida \n",
        "3^(n-1) < |comprimento| < 3^n, para algum n >= 1.\n",
        "\"\"\"\n",
        "\n",
        "def quad(turt, length=27, zoom=1):\n",
        "  \"\"\"Elemento que se repete no fractal\n",
        "  Args:\n",
        "    turt: instãncia de tartaruga\n",
        "    length: comprimento\n",
        "    zoom: aumenta ou diminui a imagem\n",
        "  \"\"\"\n",
        "    if length < 3:\n",
        "        turt.forward(length*zoom)\n",
        "        return\n",
        "    quad(turt, length/3, zoom)\n",
        "    turt.left(90)\n",
        "    quad(turt, length/3, zoom)\n",
        "    turt.right(90)\n",
        "    quad(turt, length/3, zoom)\n",
        "    turt.right(90)\n",
        "    quad(turt, 2*length/3, zoom)\n",
        "    turt.left(90)\n",
        "    quad(turt, length/3, zoom)\n",
        "    turt.left(90)\n",
        "    quad(turt, length/3, zoom)\n",
        "    turt.right(90)\n",
        "    quad(turt, length/3, zoom)\n",
        "\n",
        "def figure(turt,start,length,sides,zoom):\n",
        "  \"\"\"Faz uma figura fractal\n",
        "  Args:\n",
        "    turt: instãncia de tartaruga\n",
        "    start: par ordenado representando o início do fractal\n",
        "    length: comprimento\n",
        "    sides: quantidade de \"lados\"\n",
        "    zoom: aumenta ou diminui a imagem\n",
        "  \"\"\"\n",
        "  turt.hideturtle()\n",
        "  turt.penup()\n",
        "  turt.goto(start)\n",
        "  turt.showturtle()\n",
        "  turt.pendown()\n",
        "  quad(turt, length, zoom)\n",
        "  for i in range(sides - 1):\n",
        "    turt.right(360/sides)\n",
        "    quad(turt, length, zoom)\n",
        "    \n",
        "turt = turtle.Turtle()\n",
        "turt.speed(10)\n",
        "figure(turt,(-50,100),27,4,3)"
      ],
      "execution_count": null,
      "outputs": []
    }
  ]
}