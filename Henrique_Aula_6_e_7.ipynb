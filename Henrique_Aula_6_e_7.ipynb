{
  "nbformat": 4,
  "nbformat_minor": 0,
  "metadata": {
    "colab": {
      "name": "Henrique_Aula_6_e_7.ipynb",
      "provenance": [],
      "collapsed_sections": [],
      "authorship_tag": "ABX9TyPNGrS/43B6i4iWbG8tnPH+",
      "include_colab_link": true
    },
    "kernelspec": {
      "name": "python3",
      "display_name": "Python 3"
    }
  },
  "cells": [
    {
      "cell_type": "markdown",
      "metadata": {
        "id": "view-in-github",
        "colab_type": "text"
      },
      "source": [
        "<a href=\"https://colab.research.google.com/github/HenriqueCrj/AulasPython/blob/master/Henrique_Aula_6_e_7.ipynb\" target=\"_parent\"><img src=\"https://colab.research.google.com/assets/colab-badge.svg\" alt=\"Open In Colab\"/></a>"
      ]
    },
    {
      "cell_type": "code",
      "metadata": {
        "id": "IoJb6d579_DV"
      },
      "source": [
        "#Aula 6 e 7 - Exercícios da twiki - não funcionam completamente no Colab, então usei https://trinket.io/turtle\n",
        "#Exercício 1\n",
        "import numpy as np\n",
        "import turtle\n",
        "\n",
        "def five_points_star():\n",
        "    turt = turtle.Turtle()\n",
        "    for i in range(5):\n",
        "      turt.forward(100)\n",
        "      turt.back(100)\n",
        "      turt.left(72)\n",
        "    turt.hideturtle()\n",
        "\n",
        "print(\"Questão 1:\")\n",
        "five_points_star()"
      ],
      "execution_count": null,
      "outputs": []
    },
    {
      "cell_type": "code",
      "metadata": {
        "id": "Li6k0nosDzrq"
      },
      "source": [
        "#Aula 6 e 7 - Exercícios twiki\n",
        "#Exercício 2\n",
        "import turtle\n",
        "import numpy as np\n",
        "\n",
        "def star(vertices,color,x,y):\n",
        "    turt = turtle.Turtle()\n",
        "    turt.hideturtle()\n",
        "    turt.penup()\n",
        "    turt.goto(x,y)\n",
        "    turt.showturtle()\n",
        "    turt.pendown()\n",
        "    turt.color(color)\n",
        "    for i in range(vertices):\n",
        "      turt.forward(100)\n",
        "      turt.back(100)\n",
        "      turt.left(360/vertices)\n",
        "    turt.hideturtle()\n",
        "    \n",
        "print(\"Questão 2:\")\n",
        "star(6,\"blue\",50,50)"
      ],
      "execution_count": null,
      "outputs": []
    },
    {
      "cell_type": "code",
      "metadata": {
        "id": "0eM014Q3DweD"
      },
      "source": [
        "#Aula 6 e 7 - Exercícios twiki\n",
        "#Exercício 3\n",
        "import turtle\n",
        "import numpy as np\n",
        "\n",
        "def petals(a,b,c,num):\n",
        "    theta = np.linspace(0,2*np.pi,num)\n",
        "    turt = turtle.Turtle()\n",
        "    turt.hideturtle()\n",
        "    turt.penup()\n",
        "    r1 = a*np.cos(b*theta[0] + c)\n",
        "    r2 = a*np.cos(2*b*theta[0] + c)\n",
        "    r = r1 + r2\n",
        "    turt.goto(r*np.cos(theta[0]),r*np.sin(theta[0]))\n",
        "    turt.showturtle()\n",
        "    turt.pendown()\n",
        "    for angle in theta:\n",
        "      r1 = a*np.cos(b*angle + c)\n",
        "      r2 = a*np.cos(2*b*angle + c)\n",
        "      r = r1 + r2\n",
        "      turt.goto(r*np.cos(angle),r*np.sin(angle))\n",
        "    turt.hideturtle()\n",
        "\n",
        "print(\"Questão 3:\")\n",
        "petals(100,8,0,200)"
      ],
      "execution_count": null,
      "outputs": []
    },
    {
      "cell_type": "code",
      "metadata": {
        "id": "MiNKWbuDmEPJ"
      },
      "source": [
        "#Aula 6 e 7 - Exercícios twiki\n",
        "#Exercício 4\n",
        "import turtle\n",
        "import numpy as np\n",
        "\n",
        "def function(a,b,c,d,angle,n):\n",
        "    \"\"\"Cria a função da pétala\n",
        "    Args:\n",
        "        a: Amplitude\n",
        "        b: Frequência\n",
        "        c: Fase\n",
        "        d: Deslocamento do raio\n",
        "        angle: Ângulo\n",
        "        n: Quantidade de funções de diferentes frequências para somar\n",
        "    \n",
        "    Returns:\n",
        "        r: Raio resultante\n",
        "    \"\"\"\n",
        "    r = 0\n",
        "    for i in range(1,n+1):\n",
        "        r += np.cos(i*b*angle + c)\n",
        "    return a*r + d\n",
        "  \n",
        "def flower(turt,start,a,b,c,d,n,num,color):\n",
        "    \"\"\"Faz uma flor\n",
        "    Args:\n",
        "      turt: Objeto tartaruga\n",
        "      start: Ponto de início(Centro da flor)\n",
        "      a: Amplitude(Tamanho das pétalas)\n",
        "      b: Frequência(Quantidade de pétalas grandes)\n",
        "      c: Fase(Altera tamanho de todas as pétalas)\n",
        "      d: Deslocamento do raio(Aumenta o circulo interno da flor)\n",
        "      n: Quantidade de funções cosseno para somar\n",
        "      num: Define a quantidade de pontos(Precisão na figura)\n",
        "    \"\"\"\n",
        "\n",
        "    theta = np.linspace(0,2*np.pi,num)\n",
        "    turt.hideturtle()\n",
        "    turt.penup()\n",
        "    turt.color(color)\n",
        "    r = function(a,b,c,d,theta[0],n) #raio\n",
        "    turt.goto(start[0] + r*np.cos(theta[0]),start[1] + r*np.sin(theta[0]))\n",
        "    turt.showturtle()\n",
        "    turt.begin_fill()\n",
        "    turt.pendown()\n",
        "    for angle in theta:\n",
        "      r = function(a,b,c,d,angle,n)\n",
        "      turt.goto(start[0] + r*np.cos(angle),start[1] + r*np.sin(angle))\n",
        "    turt.end_fill()\n",
        "    turt.hideturtle()\n",
        "    print(\"Flower completed\")\n",
        "  \n",
        "def leaf(turt,start,a_s,b_s,a_l,b_l,num):\n",
        "    \"\"\"Faz uma folha dependendo dos parâmetros do caule\n",
        "    Parte da folha é uma elipse e outra parte é uma reta\n",
        "    Args:\n",
        "      turt: Objeto tartaruga\n",
        "      start: Ponto de início(Centro da flor)\n",
        "      a_s: Tamanho x do caule\n",
        "      b_s: Tamanho y do caule\n",
        "      a_l: Tamanho x da folha\n",
        "      b_l: Tamanho y do folha\n",
        "      num: Define a quantidade de pontos(Precisão na figura)\n",
        "    \"\"\"\n",
        "\n",
        "    theta = np.linspace(-np.pi/2,0,num)\n",
        "    turt.hideturtle()\n",
        "    turt.penup()\n",
        "    turt.color(\"green\")\n",
        "    turt.goto(start[0] + a_s ,start[1] - b_s + b_l + b_l*-1)\n",
        "    turt.showturtle()\n",
        "    turt.begin_fill()\n",
        "    turt.pendown()\n",
        "    for angle in theta:\n",
        "      turt.goto(start[0] + a_s + a_l*np.cos(angle),start[1] - b_s + b_l + b_l*np.sin(angle))\n",
        "    parameters = np.linspace(0,np.sqrt(a_l*a_l + b_l*b_l),num)\n",
        "    for t in parameters:\n",
        "      turt.goto(start[0] + a_l + a_s +(a_l*-t)/np.sqrt(a_l*a_l + b_l*b_l),start[1] - b_s + b_l + (b_l*(-t-1)/np.sqrt(a_l*a_l + b_l*b_l)))\n",
        "    turt.end_fill()\n",
        "    turt.hideturtle()\n",
        "    print(\"Leaf completed\")\n",
        "    \n",
        "def stalk_and_leaf(turt,start,a_s,b_s,num):\n",
        "    \"\"\"Faz o caule e folha\n",
        "    O caula é metade de uma elipse\n",
        "    Args:\n",
        "      turt: Objeto tartaruga\n",
        "      start: Ponto de início(Centro da flor)\n",
        "      a_s: Tamanho x do caule\n",
        "      b_s: Tamanho y do caule\n",
        "      num: Define a quantidade de pontos(Precisão na figura)\n",
        "    \"\"\"\n",
        "\n",
        "    theta = np.linspace(-np.pi/2,np.pi/2,num)\n",
        "    turt.hideturtle()\n",
        "    turt.penup()\n",
        "    turt.color(\"brown\")\n",
        "    turt.goto(start[0],start[1])\n",
        "    turt.showturtle()\n",
        "    turt.pendown()\n",
        "    for angle in theta:\n",
        "      turt.goto(start[0] + a_s*np.cos(-angle),start[1] + b_s*np.sin(-angle) - b_s)\n",
        "    turt.hideturtle()\n",
        "    print(\"Stalk completed\")\n",
        "    leaf(turt,start,a_s,b_s,100,40,num)\n",
        "\n",
        "def full_flower(start):\n",
        "    \"\"\"Faz a flor completa\n",
        "    Args:\n",
        "        start: Tupla representando o centro da flor\n",
        "    \"\"\"\n",
        "\n",
        "    turt = turtle.Turtle()\n",
        "    turt.speed(10)\n",
        "    flower(turt,start,30,7,0,60,1,170,\"blue\")\n",
        "    flower(turt,start,35,6,0,0,3,250,\"red\")\n",
        "    stalk_and_leaf(turt,start,15,120,150)\n",
        "\n",
        "print(\"Questão 4:\")\n",
        "full_flower((0,60))\n"
      ],
      "execution_count": null,
      "outputs": []
    },
    {
      "cell_type": "code",
      "metadata": {
        "id": "F4HtRPxmmxwK"
      },
      "source": [
        "#Aula 6 e 7 - Exercícios github\n",
        "#Exercício 1\n",
        "import turtle\n",
        "import math\n",
        "\n",
        "def histogram(values, bin_size, color=\"blue\"): #se xs for lista de dados\n",
        "  if not isinstance(values,list):\n",
        "    print(\"Values is not a list\")\n",
        "    return\n",
        "  if not len(values):\n",
        "    print(\"Empty list\")\n",
        "    return\n",
        "  if bin_size <= 0:\n",
        "    print(\"Bin size isn't positive\")\n",
        "    return\n",
        "  \n",
        "  frequencies = []\n",
        "  values.sort()\n",
        "  max_value = max(values)\n",
        "  min_value = min(values)\n",
        "  n_bins = math.ceil((max_value - min_value)/bin_size)\n",
        "  init = min_value\n",
        "  end = init + bin_size\n",
        "  for i in range(0,n_bins):\n",
        "    counter = 0\n",
        "    for value in values:\n",
        "      if value >= init and value < end:\n",
        "        counter += 1\n",
        "    frequencies.append(counter)\n",
        "    init += bin_size\n",
        "    end += bin_size\n",
        "  screen = turtle.Screen()\n",
        "  turt = turtle.Turtle()\n",
        "  turt.color(color)\n",
        "  screen.bgcolor(\"white\")\n",
        "  turt.penup()\n",
        "  turt.goto(-200,0)\n",
        "  turt.pendown()\n",
        "  turt.setheading(90)\n",
        "  for frequency in frequencies:\n",
        "    draw_bar(turt, frequency)\n",
        "\n",
        "def draw_bar(t, height):\n",
        "    \"\"\" Get turtle t to draw one bar, of height. \"\"\"\n",
        "    t.forward(height)\n",
        "    t.right(90)\n",
        "    t.forward(40)\n",
        "    t.right(90)\n",
        "    t.forward(height)\n",
        "    t.left(180)\n",
        "\n",
        "xs = [48,117,200,240,160,260,220]\n",
        "histogram(xs,40,\"red\")"
      ],
      "execution_count": null,
      "outputs": []
    },
    {
      "cell_type": "code",
      "metadata": {
        "id": "LnHCJAduAcnf"
      },
      "source": [
        "#Aula 6 e 7 - Exercícios github\n",
        "#Exercício 2\n",
        "import turtle\n",
        "import math\n",
        "\n",
        "def histogram2(values, bin_size, color=\"blue\"): #se xs for lista de dados\n",
        "  if not isinstance(values,list):\n",
        "    raise TypeError\n",
        "  if not len(values):\n",
        "    return\n",
        "  if bin_size <= 0:\n",
        "    raise ValueError\n",
        "  frequencies = []\n",
        "  values.sort()\n",
        "  max_value = max(values)\n",
        "  min_value = min(values)\n",
        "  n_bins = math.ceil((max_value - min_value)/bin_size)\n",
        "  init = min_value\n",
        "  end = init + bin_size\n",
        "  for i in range(0,n_bins):\n",
        "    counter = 0\n",
        "    for value in values:\n",
        "      if value >= init and value < end:\n",
        "        counter += 1\n",
        "    frequencies.append(counter)\n",
        "    init += bin_size\n",
        "    end += bin_size\n",
        "  screen = turtle.Screen()\n",
        "  turt = turtle.Turtle()\n",
        "  turt.color(color)\n",
        "  screen.bgcolor(\"white\")\n",
        "  turt.penup()\n",
        "  turt.goto(-200,0)\n",
        "  turt.pendown()\n",
        "  turt.setheading(90)\n",
        "  for frequency in frequencies:\n",
        "    draw_bar(turt, frequency)\n",
        "\n",
        "def draw_bar(t, height):\n",
        "    \"\"\" Get turtle t to draw one bar, of height. \"\"\"\n",
        "    t.forward(height)\n",
        "    t.right(90)\n",
        "    t.forward(40)\n",
        "    t.right(90)\n",
        "    t.forward(height)\n",
        "    t.left(180)\n",
        "\n",
        "xs = [48,117,200,240,160,260,220]\n",
        "try:\n",
        "  histogram2(xs,40,\"red\")\n",
        "except TypeError:\n",
        "  print(\"Values is not a list\")\n",
        "except ValueError:\n",
        "  print(\"Bin size isn't positive\")"
      ],
      "execution_count": null,
      "outputs": []
    },
    {
      "cell_type": "code",
      "metadata": {
        "id": "ycXmGJkDAxkd"
      },
      "source": [
        "#Aula 6 e 7 - Exercícios github\n",
        "#Exercício 3\n",
        "import numpy as np\n",
        "import matplotlib.pyplot as plt\n",
        "\n",
        "def histogram3(values, bin_size, color=\"blue\"): #se xs for lista de dados\n",
        "    if not isinstance(values,list):\n",
        "        print(\"Values is not a list\")\n",
        "        return\n",
        "    if not len(values):\n",
        "        print(\"Empty list\")\n",
        "        return\n",
        "    if bin_size <= 0:\n",
        "        print(\"Bin size isn't positive\")\n",
        "        return\n",
        "    array = np.array(values)\n",
        "    n_bins = np.arange(np.min(array),np.max(array)+bin_size,bin_size)\n",
        "    #n_bins = int(np.ceil((array.max() - array.min())/bin_size))\n",
        "    plt.subplot(2,1,1)\n",
        "    plt.xticks(n_bins)\n",
        "    plt.title(\"Histogram of data\")\n",
        "    plt.hist(array, bins= n_bins, color= color, edgecolor= \"black\")\n",
        "\n",
        "def histogram4(values,  color=\"blue\"): #se xs for lista de frequências\n",
        "    if not isinstance(values,list):\n",
        "        print(\"Values is not a list\")\n",
        "        return\n",
        "    if not len(values):\n",
        "        print(\"Empty list\")\n",
        "        return\n",
        "    if bin_size <= 0:\n",
        "        print(\"Bin size isn't positive\")\n",
        "        return\n",
        "    array = np.array(values)\n",
        "    plt.subplot(2,1,2)\n",
        "    plt.title(\"Histogram of frequencies\")\n",
        "    plt.bar(np.arange(1,len(array)+1),array,width=1, color= color, edgecolor= \"black\")\n",
        "\n",
        "xs = [48,117,200,240,160,260,220]\n",
        "histogram3(xs,40,\"blue\")\n",
        "histogram4(xs,\"blue\")\n",
        "plt.tight_layout()"
      ],
      "execution_count": null,
      "outputs": []
    },
    {
      "cell_type": "markdown",
      "metadata": {
        "id": "IVXPgnhgJ836"
      },
      "source": [
        "1) A conjectura de Collatz, diz que \"Todos os inteiros positivos irão eventualmente convergir para 1 usando as regras do Collatz\". Faça um programa que verifique a conjectura de Collatz para alguns valores. As regras de Collatz são: Dado um número n:\n",
        "\n",
        "    se n for par, divida-o por 2;\n",
        "    Se n for ímpar, atualize-o para 3*n + 1\n"
      ]
    },
    {
      "cell_type": "code",
      "metadata": {
        "id": "qD7X9uvII4f9",
        "outputId": "8a9e969d-1f30-4adc-d0af-66f5a345ece7",
        "colab": {
          "base_uri": "https://localhost:8080/",
          "height": 201
        }
      },
      "source": [
        "def collatz(n):\n",
        "    if not isinstance(n,int) or n < 0:\n",
        "        print(\"n não é inteiro positivo\")\n",
        "    while n != 1:\n",
        "        if n%2:\n",
        "            n = n/2\n",
        "        else:\n",
        "            n = 3*n + 1\n",
        "    print(\"A conjectura de Collatz estava certa\")\n",
        "\n",
        "for i in range(10):\n",
        "    collatz(i)\n",
        "    "
      ],
      "execution_count": 3,
      "outputs": [
        {
          "output_type": "stream",
          "text": [
            "A conjectura de Collatz estava certa\n",
            "A conjectura de Collatz estava certa\n",
            "A conjectura de Collatz estava certa\n",
            "A conjectura de Collatz estava certa\n",
            "A conjectura de Collatz estava certa\n",
            "A conjectura de Collatz estava certa\n",
            "A conjectura de Collatz estava certa\n",
            "A conjectura de Collatz estava certa\n",
            "A conjectura de Collatz estava certa\n",
            "A conjectura de Collatz estava certa\n"
          ],
          "name": "stdout"
        }
      ]
    },
    {
      "cell_type": "markdown",
      "metadata": {
        "id": "7mzdT9Q6KDMC"
      },
      "source": [
        "2) Modifique a função counter para contar o número de vezes que os dígitos 0 e 5 aparecem em um dado número n. Por exemplo, n = 10568, tem 2 dígitos 0 ou 5."
      ]
    },
    {
      "cell_type": "code",
      "metadata": {
        "id": "CXYaffLnKGK6",
        "outputId": "2340145d-fb53-4293-ca57-1b79129b03ff",
        "colab": {
          "base_uri": "https://localhost:8080/",
          "height": 35
        }
      },
      "source": [
        "def counter(n):\n",
        "    count = 0\n",
        "    while n!=0:\n",
        "        if n % 10 == 0 or n % 10 == 5:\n",
        "            count = count + 1\n",
        "        n = n // 10         # divisão de inteiros\n",
        "    return count\n",
        "\n",
        "counter(10568)"
      ],
      "execution_count": 6,
      "outputs": [
        {
          "output_type": "execute_result",
          "data": {
            "text/plain": [
              "2"
            ]
          },
          "metadata": {
            "tags": []
          },
          "execution_count": 6
        }
      ]
    },
    {
      "cell_type": "markdown",
      "metadata": {
        "id": "n6MR3sRmKGhC"
      },
      "source": [
        "3) Encapsule e generalize a seguinte declaração:\n",
        "\n",
        "for i in [12, 16, 17, 24, 29]:\n",
        "    if i % 2 == 1:  # If the number is odd\n",
        "       break        #  ... immediately exit the loop\n",
        "    print(i)\n",
        "print(\"done\")\n",
        "\n"
      ]
    },
    {
      "cell_type": "code",
      "metadata": {
        "id": "OaA-hheRKMVS",
        "outputId": "6647791c-af65-4bed-a934-543bd133799f",
        "colab": {
          "base_uri": "https://localhost:8080/",
          "height": 72
        }
      },
      "source": [
        "def check_for_odd(numbers):  \n",
        "    for i in numbers:\n",
        "        if i % 2 == 1:  # If the number is odd\n",
        "            break        #  ... immediately exit the loop\n",
        "        print(i)\n",
        "    print(\"done\")\n",
        "\n",
        "check_for_odd([12, 16, 17, 24, 29])"
      ],
      "execution_count": 57,
      "outputs": [
        {
          "output_type": "stream",
          "text": [
            "12\n",
            "16\n",
            "done\n"
          ],
          "name": "stdout"
        }
      ]
    },
    {
      "cell_type": "markdown",
      "metadata": {
        "id": "Xl-05ZehKQHD"
      },
      "source": [
        "\n",
        "\n",
        "4) O método de Newton para raiz quadrada. Suponha que você queira calcular a raiz quadrada de n. Se você começar com quase qualquer aproximação, poderá calcular uma aproximação melhor (mais próxima da resposta real) com a seguinte fórmula: melhor = (approx + n/approx)/2\n",
        "\n",
        "Usando um loop e repetindo esta fórmula até que a melhor aproximação se aproxime o suficiente da anterior (podemos considerar uma diferença de 0,001), podemos escrever uma função para calcular a raiz quadrada.\n",
        "\n",
        "Esse é um exemplo de repetição indefinida. Com qual tipo de loop você deve escrever o seu programa?\n"
      ]
    },
    {
      "cell_type": "code",
      "metadata": {
        "id": "-jxkAV1zKShb",
        "outputId": "d386529f-debe-42eb-fede-ea650257cdcc",
        "colab": {
          "base_uri": "https://localhost:8080/",
          "height": 35
        }
      },
      "source": [
        "#O loop deve ser escrito com um while\n",
        "def newton_sqrt(n):\n",
        "    if n > 0:\n",
        "        melhor = n\n",
        "        approx = 1\n",
        "        while abs(melhor - approx) > 0.001:\n",
        "            approx = melhor\n",
        "            melhor = (approx + n/approx)/2\n",
        "        return melhor\n",
        "    elif n == 0:\n",
        "        return 0\n",
        "    else:\n",
        "        return \"Error: number is negative\"\n",
        "\n",
        "newton_sqrt(10)"
      ],
      "execution_count": 61,
      "outputs": [
        {
          "output_type": "execute_result",
          "data": {
            "text/plain": [
              "3.162277665175675"
            ]
          },
          "metadata": {
            "tags": []
          },
          "execution_count": 61
        }
      ]
    }
  ]
}