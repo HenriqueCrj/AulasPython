{
  "nbformat": 4,
  "nbformat_minor": 0,
  "metadata": {
    "colab": {
      "name": "Henrique_Aula_6_e_7.ipynb",
      "provenance": [],
      "collapsed_sections": [],
      "authorship_tag": "ABX9TyOUas3XBJnD1uo/sVer63bp",
      "include_colab_link": true
    },
    "kernelspec": {
      "name": "python3",
      "display_name": "Python 3"
    }
  },
  "cells": [
    {
      "cell_type": "markdown",
      "metadata": {
        "id": "view-in-github",
        "colab_type": "text"
      },
      "source": [
        "<a href=\"https://colab.research.google.com/github/HenriqueCrj/AulasPython/blob/master/Henrique_Aula_6_e_7.ipynb\" target=\"_parent\"><img src=\"https://colab.research.google.com/assets/colab-badge.svg\" alt=\"Open In Colab\"/></a>"
      ]
    },
    {
      "cell_type": "code",
      "metadata": {
        "id": "IoJb6d579_DV"
      },
      "source": [
        "#Aula 6 e 7 - Exercícios da twiki - não funcionam completamente no Colab, então usei https://trinket.io/turtle\n",
        "#Exercício 1\n",
        "import numpy as np\n",
        "import turtle\n",
        "\n",
        "def five_points_star():\n",
        "    turt = turtle.Turtle()\n",
        "    for i in range(5):\n",
        "      turt.forward(100)\n",
        "      turt.back(100)\n",
        "      turt.left(72)\n",
        "    turt.hideturtle()\n",
        "\n",
        "print(\"Questão 1:\")\n",
        "five_points_star()"
      ],
      "execution_count": null,
      "outputs": []
    },
    {
      "cell_type": "code",
      "metadata": {
        "id": "Li6k0nosDzrq"
      },
      "source": [
        "#Aula 6 e 7 - Exercícios twiki\n",
        "#Exercício 2\n",
        "import turtle\n",
        "import numpy as np\n",
        "\n",
        "def star(vertices,color,x,y):\n",
        "    turt = turtle.Turtle()\n",
        "    turt.hideturtle()\n",
        "    turt.penup()\n",
        "    turt.goto(x,y)\n",
        "    turt.showturtle()\n",
        "    turt.pendown()\n",
        "    turt.color(color)\n",
        "    for i in range(vertices):\n",
        "      turt.forward(100)\n",
        "      turt.back(100)\n",
        "      turt.left(360/vertices)\n",
        "    turt.hideturtle()\n",
        "    \n",
        "print(\"Questão 2:\")\n",
        "star(6,\"blue\",50,50)"
      ],
      "execution_count": null,
      "outputs": []
    },
    {
      "cell_type": "code",
      "metadata": {
        "id": "0eM014Q3DweD"
      },
      "source": [
        "#Aula 6 e 7 - Exercícios twiki\n",
        "#Exercício 3\n",
        "import turtle\n",
        "import numpy as np\n",
        "\n",
        "def petals(a,b,c,num):\n",
        "    theta = np.linspace(0,2*np.pi,num)\n",
        "    turt = turtle.Turtle()\n",
        "    turt.hideturtle()\n",
        "    turt.penup()\n",
        "    r1 = a*np.cos(b*theta[0] + c)\n",
        "    r2 = a*np.cos(2*b*theta[0] + c)\n",
        "    r = r1 + r2\n",
        "    turt.goto(r*np.cos(theta[0]),r*np.sin(theta[0]))\n",
        "    turt.showturtle()\n",
        "    turt.pendown()\n",
        "    for angle in theta:\n",
        "      r1 = a*np.cos(b*angle + c)\n",
        "      r2 = a*np.cos(2*b*angle + c)\n",
        "      r = r1 + r2\n",
        "      turt.goto(r*np.cos(angle),r*np.sin(angle))\n",
        "    turt.hideturtle()\n",
        "\n",
        "print(\"Questão 3:\")\n",
        "petals(100,8,0,200)"
      ],
      "execution_count": null,
      "outputs": []
    },
    {
      "cell_type": "code",
      "metadata": {
        "id": "MiNKWbuDmEPJ"
      },
      "source": [
        "#Aula 6 e 7 - Exercícios twiki\n",
        "#Exercício 4\n",
        "import turtle\n",
        "import numpy as np\n",
        "\n",
        "def function(a,b,c,d,angle,n):\n",
        "    \"\"\"Cria a função da pétala\n",
        "    Args:\n",
        "        a: Amplitude\n",
        "        b: Frequência\n",
        "        c: Fase\n",
        "        d: Deslocamento do raio\n",
        "        angle: Ângulo\n",
        "        n: Quantidade de funções de diferentes frequências para somar\n",
        "    \n",
        "    Returns:\n",
        "        r: Raio resultante\n",
        "    \"\"\"\n",
        "    r = 0\n",
        "    for i in range(1,n+1):\n",
        "        r += np.cos(i*b*angle + c)\n",
        "    return a*r + d\n",
        "  \n",
        "def flower(turt,start,a,b,c,d,n,num,color):\n",
        "    \"\"\"Faz uma flor\n",
        "    Args:\n",
        "      turt: Objeto tartaruga\n",
        "      start: Ponto de início(Centro da flor)\n",
        "      a: Amplitude(Tamanho das pétalas)\n",
        "      b: Frequência(Quantidade de pétalas grandes)\n",
        "      c: Fase(Altera tamanho de todas as pétalas)\n",
        "      d: Deslocamento do raio(Aumenta o circulo interno da flor)\n",
        "      n: Quantidade de funções cosseno para somar\n",
        "      num: Define a quantidade de pontos(Precisão na figura)\n",
        "    \"\"\"\n",
        "\n",
        "    theta = np.linspace(0,2*np.pi,num)\n",
        "    turt.hideturtle()\n",
        "    turt.penup()\n",
        "    turt.color(color)\n",
        "    r = function(a,b,c,d,theta[0],n) #raio\n",
        "    turt.goto(start[0] + r*np.cos(theta[0]),start[1] + r*np.sin(theta[0]))\n",
        "    turt.showturtle()\n",
        "    turt.begin_fill()\n",
        "    turt.pendown()\n",
        "    for angle in theta:\n",
        "      r = function(a,b,c,d,angle,n)\n",
        "      turt.goto(start[0] + r*np.cos(angle),start[1] + r*np.sin(angle))\n",
        "    turt.end_fill()\n",
        "    turt.hideturtle()\n",
        "    print(\"Flower completed\")\n",
        "  \n",
        "def leaf(turt,start,a_s,b_s,a_l,b_l,num):\n",
        "    \"\"\"Faz uma folha dependendo dos parâmetros do caule\n",
        "    Parte da folha é uma elipse e outra parte é uma reta\n",
        "    Args:\n",
        "      turt: Objeto tartaruga\n",
        "      start: Ponto de início(Centro da flor)\n",
        "      a_s: Tamanho x do caule\n",
        "      b_s: Tamanho y do caule\n",
        "      a_l: Tamanho x da folha\n",
        "      b_l: Tamanho y do folha\n",
        "      num: Define a quantidade de pontos(Precisão na figura)\n",
        "    \"\"\"\n",
        "\n",
        "    theta = np.linspace(-np.pi/2,0,num)\n",
        "    turt.hideturtle()\n",
        "    turt.penup()\n",
        "    turt.color(\"green\")\n",
        "    turt.goto(start[0] + a_s ,start[1] - b_s + b_l + b_l*-1)\n",
        "    turt.showturtle()\n",
        "    turt.begin_fill()\n",
        "    turt.pendown()\n",
        "    for angle in theta:\n",
        "      turt.goto(start[0] + a_s + a_l*np.cos(angle),start[1] - b_s + b_l + b_l*np.sin(angle))\n",
        "    parameters = np.linspace(0,np.sqrt(a_l*a_l + b_l*b_l),num)\n",
        "    for t in parameters:\n",
        "      turt.goto(start[0] + a_l + a_s +(a_l*-t)/np.sqrt(a_l*a_l + b_l*b_l),start[1] - b_s + b_l + (b_l*(-t-1)/np.sqrt(a_l*a_l + b_l*b_l)))\n",
        "    turt.end_fill()\n",
        "    turt.hideturtle()\n",
        "    print(\"Leaf completed\")\n",
        "    \n",
        "def stalk_and_leaf(turt,start,a_s,b_s,num):\n",
        "    \"\"\"Faz o caule e folha\n",
        "    O caula é metade de uma elipse\n",
        "    Args:\n",
        "      turt: Objeto tartaruga\n",
        "      start: Ponto de início(Centro da flor)\n",
        "      a_s: Tamanho x do caule\n",
        "      b_s: Tamanho y do caule\n",
        "      num: Define a quantidade de pontos(Precisão na figura)\n",
        "    \"\"\"\n",
        "\n",
        "    theta = np.linspace(-np.pi/2,np.pi/2,num)\n",
        "    turt.hideturtle()\n",
        "    turt.penup()\n",
        "    turt.color(\"brown\")\n",
        "    turt.goto(start[0],start[1])\n",
        "    turt.showturtle()\n",
        "    turt.pendown()\n",
        "    for angle in theta:\n",
        "      turt.goto(start[0] + a_s*np.cos(-angle),start[1] + b_s*np.sin(-angle) - b_s)\n",
        "    turt.hideturtle()\n",
        "    print(\"Stalk completed\")\n",
        "    leaf(turt,start,a_s,b_s,100,40,num)\n",
        "\n",
        "def full_flower(start):\n",
        "    \"\"\"Faz a flor completa\n",
        "    Args:\n",
        "        start: Tupla representando o centro da flor\n",
        "    \"\"\"\n",
        "\n",
        "    turt = turtle.Turtle()\n",
        "    turt.speed(10)\n",
        "    flower(turt,start,30,7,0,60,1,170,\"blue\")\n",
        "    flower(turt,start,35,6,0,0,3,250,\"red\")\n",
        "    stalk_and_leaf(turt,start,15,120,150)\n",
        "\n",
        "print(\"Questão 4:\")\n",
        "full_flower((0,60))\n"
      ],
      "execution_count": null,
      "outputs": []
    },
    {
      "cell_type": "code",
      "metadata": {
        "id": "F4HtRPxmmxwK"
      },
      "source": [
        "#Aula 6 e 7 - Exercícios github\n",
        "#Exercício 1\n",
        "import turtle\n",
        "import math\n",
        "\n",
        "def histogram(values, bin_size, color=\"blue\"): #se xs for lista de dados\n",
        "  if not isinstance(values,list):\n",
        "    print(\"Values is not a list\")\n",
        "    return\n",
        "  if not len(values):\n",
        "    print(\"Empty list\")\n",
        "    return\n",
        "  if bin_size <= 0:\n",
        "    print(\"Bin size isn't positive\")\n",
        "    return\n",
        "  \n",
        "  frequencies = []\n",
        "  values.sort()\n",
        "  max_value = max(values)\n",
        "  min_value = min(values)\n",
        "  n_bins = math.ceil((max_value - min_value)/bin_size)\n",
        "  init = min_value\n",
        "  end = init + bin_size\n",
        "  for i in range(0,n_bins):\n",
        "    counter = 0\n",
        "    for value in values:\n",
        "      if value >= init and value < end:\n",
        "        counter += 1\n",
        "    frequencies.append(counter)\n",
        "    init += bin_size\n",
        "    end += bin_size\n",
        "  screen = turtle.Screen()\n",
        "  turt = turtle.Turtle()\n",
        "  turt.color(color)\n",
        "  screen.bgcolor(\"white\")\n",
        "  turt.penup()\n",
        "  turt.goto(-200,0)\n",
        "  turt.pendown()\n",
        "  turt.setheading(90)\n",
        "  for frequency in frequencies:\n",
        "    draw_bar(turt, frequency)\n",
        "\n",
        "def draw_bar(t, height):\n",
        "    \"\"\" Get turtle t to draw one bar, of height. \"\"\"\n",
        "    t.forward(height)\n",
        "    t.right(90)\n",
        "    t.forward(40)\n",
        "    t.right(90)\n",
        "    t.forward(height)\n",
        "    t.left(180)\n",
        "\n",
        "xs = [48,117,200,240,160,260,220]\n",
        "histogram(xs,40,\"red\")"
      ],
      "execution_count": null,
      "outputs": []
    },
    {
      "cell_type": "code",
      "metadata": {
        "id": "LnHCJAduAcnf"
      },
      "source": [
        "#Aula 6 e 7 - Exercícios github\n",
        "#Exercício 2\n",
        "import turtle\n",
        "import math\n",
        "\n",
        "def histogram2(values, bin_size, color=\"blue\"): #se xs for lista de dados\n",
        "  if not isinstance(values,list):\n",
        "    raise TypeError\n",
        "  if not len(values):\n",
        "    return\n",
        "  if bin_size <= 0:\n",
        "    raise ValueError\n",
        "  frequencies = []\n",
        "  values.sort()\n",
        "  max_value = max(values)\n",
        "  min_value = min(values)\n",
        "  n_bins = math.ceil((max_value - min_value)/bin_size)\n",
        "  init = min_value\n",
        "  end = init + bin_size\n",
        "  for i in range(0,n_bins):\n",
        "    counter = 0\n",
        "    for value in values:\n",
        "      if value >= init and value < end:\n",
        "        counter += 1\n",
        "    frequencies.append(counter)\n",
        "    init += bin_size\n",
        "    end += bin_size\n",
        "  screen = turtle.Screen()\n",
        "  turt = turtle.Turtle()\n",
        "  turt.color(color)\n",
        "  screen.bgcolor(\"white\")\n",
        "  turt.penup()\n",
        "  turt.goto(-200,0)\n",
        "  turt.pendown()\n",
        "  turt.setheading(90)\n",
        "  for frequency in frequencies:\n",
        "    draw_bar(turt, frequency)\n",
        "\n",
        "def draw_bar(t, height):\n",
        "    \"\"\" Get turtle t to draw one bar, of height. \"\"\"\n",
        "    t.forward(height)\n",
        "    t.right(90)\n",
        "    t.forward(40)\n",
        "    t.right(90)\n",
        "    t.forward(height)\n",
        "    t.left(180)\n",
        "\n",
        "xs = [48,117,200,240,160,260,220]\n",
        "try:\n",
        "  histogram2(xs,40,\"red\")\n",
        "except TypeError:\n",
        "  print(\"Values is not a list\")\n",
        "except ValueError:\n",
        "  print(\"Bin size isn't positive\")"
      ],
      "execution_count": null,
      "outputs": []
    },
    {
      "cell_type": "code",
      "metadata": {
        "id": "ycXmGJkDAxkd"
      },
      "source": [
        "#Aula 6 e 7 - Exercícios github\n",
        "#Exercício 3\n",
        "import numpy as np\n",
        "import matplotlib.pyplot as plt\n",
        "\n",
        "def histogram3(values, bin_size, color=\"blue\"): #se xs for lista de dados\n",
        "    if not isinstance(values,list):\n",
        "        print(\"Values is not a list\")\n",
        "        return\n",
        "    if not len(values):\n",
        "        print(\"Empty list\")\n",
        "        return\n",
        "    if bin_size <= 0:\n",
        "        print(\"Bin size isn't positive\")\n",
        "        return\n",
        "    array = np.array(values)\n",
        "    n_bins = np.arange(np.min(array),np.max(array)+bin_size,bin_size)\n",
        "    #n_bins = int(np.ceil((array.max() - array.min())/bin_size))\n",
        "    plt.subplot(2,1,1)\n",
        "    plt.xticks(n_bins)\n",
        "    plt.title(\"Histogram of data\")\n",
        "    plt.hist(array, bins= n_bins, color= color, edgecolor= \"black\")\n",
        "\n",
        "def histogram4(values,  color=\"blue\"): #se xs for lista de frequências\n",
        "    if not isinstance(values,list):\n",
        "        print(\"Values is not a list\")\n",
        "        return\n",
        "    if not len(values):\n",
        "        print(\"Empty list\")\n",
        "        return\n",
        "    if bin_size <= 0:\n",
        "        print(\"Bin size isn't positive\")\n",
        "        return\n",
        "    array = np.array(values)\n",
        "    plt.subplot(2,1,2)\n",
        "    plt.title(\"Histogram of frequencies\")\n",
        "    plt.bar(np.arange(1,len(array)+1),array,width=1, color= color, edgecolor= \"black\")\n",
        "\n",
        "xs = [48,117,200,240,160,260,220]\n",
        "histogram3(xs,40,\"blue\")\n",
        "histogram4(xs,\"blue\")\n",
        "plt.tight_layout()"
      ],
      "execution_count": null,
      "outputs": []
    },
    {
      "cell_type": "markdown",
      "metadata": {
        "id": "IVXPgnhgJ836"
      },
      "source": [
        "1) A conjectura de Collatz, diz que \"Todos os inteiros positivos irão eventualmente convergir para 1 usando as regras do Collatz\". Faça um programa que verifique a conjectura de Collatz para alguns valores. As regras de Collatz são: Dado um número n:\n",
        "\n",
        "    se n for par, divida-o por 2;\n",
        "    Se n for ímpar, atualize-o para 3*n + 1\n"
      ]
    },
    {
      "cell_type": "code",
      "metadata": {
        "id": "qD7X9uvII4f9",
        "outputId": "ccde25bb-7b5e-4113-98e2-b1fc8126e493",
        "colab": {
          "base_uri": "https://localhost:8080/",
          "height": 202
        }
      },
      "source": [
        "def collatz(n):\n",
        "    if not isinstance(n,int) or n < 0:\n",
        "        print(\"n não é inteiro positivo\")\n",
        "        return\n",
        "    while n != 1:\n",
        "        if n%2:\n",
        "            n = n/2\n",
        "        else:\n",
        "            n = 3*n + 1\n",
        "    print(\"A conjectura de Collatz foi verificada\")\n",
        "\n",
        "for n in range(10):\n",
        "    collatz(n)    "
      ],
      "execution_count": null,
      "outputs": [
        {
          "output_type": "stream",
          "text": [
            "A conjectura de Collatz foi verificada\n",
            "A conjectura de Collatz foi verificada\n",
            "A conjectura de Collatz foi verificada\n",
            "A conjectura de Collatz foi verificada\n",
            "A conjectura de Collatz foi verificada\n",
            "A conjectura de Collatz foi verificada\n",
            "A conjectura de Collatz foi verificada\n",
            "A conjectura de Collatz foi verificada\n",
            "A conjectura de Collatz foi verificada\n",
            "A conjectura de Collatz foi verificada\n"
          ],
          "name": "stdout"
        }
      ]
    },
    {
      "cell_type": "markdown",
      "metadata": {
        "id": "7mzdT9Q6KDMC"
      },
      "source": [
        "2) Modifique a função counter para contar o número de vezes que os dígitos 0 e 5 aparecem em um dado número n. Por exemplo, n = 10568, tem 2 dígitos 0 ou 5."
      ]
    },
    {
      "cell_type": "code",
      "metadata": {
        "id": "CXYaffLnKGK6",
        "outputId": "6488f99b-494b-4203-be4a-7c04da007d01",
        "colab": {
          "base_uri": "https://localhost:8080/",
          "height": 35
        }
      },
      "source": [
        "def counter(n):\n",
        "    count = 0\n",
        "    while n!=0:\n",
        "        if n % 10 == 0 or n % 10 == 5:\n",
        "            #print(n%10)\n",
        "            count = count + 1\n",
        "        n = n // 10         # divisão de inteiros\n",
        "    return count\n",
        "\n",
        "counter(9999)"
      ],
      "execution_count": null,
      "outputs": [
        {
          "output_type": "execute_result",
          "data": {
            "text/plain": [
              "0"
            ]
          },
          "metadata": {
            "tags": []
          },
          "execution_count": 13
        }
      ]
    },
    {
      "cell_type": "markdown",
      "metadata": {
        "id": "n6MR3sRmKGhC"
      },
      "source": [
        "3) Encapsule e generalize a seguinte declaração:\n",
        "\n",
        "for i in [12, 16, 17, 24, 29]:\n",
        "    if i % 2 == 1:  # If the number is odd\n",
        "       break        #  ... immediately exit the loop\n",
        "    print(i)\n",
        "print(\"done\")\n",
        "\n"
      ]
    },
    {
      "cell_type": "code",
      "metadata": {
        "id": "OaA-hheRKMVS",
        "outputId": "4e153fd3-67d9-4c07-a744-0a7d4b14e904",
        "colab": {
          "base_uri": "https://localhost:8080/",
          "height": 91
        }
      },
      "source": [
        "def check_for_odd(numbers):  \n",
        "    \"\"\"Procura pelo primeiro número ímpar\n",
        "    Args:\n",
        "        numbers: lista de números\n",
        "    \"\"\"\n",
        "    for i in numbers:\n",
        "        if i % 2 == 1:  # If the number is odd\n",
        "            print(f\"First odd number is: {i}\")\n",
        "            break        #  ... immediately exit the loop\n",
        "        print(i)\n",
        "    print(\"done\")\n",
        "\n",
        "check_for_odd([12, 16, 17, 24, 29])"
      ],
      "execution_count": null,
      "outputs": [
        {
          "output_type": "stream",
          "text": [
            "12\n",
            "16\n",
            "First odd number is: 17\n",
            "done\n"
          ],
          "name": "stdout"
        }
      ]
    },
    {
      "cell_type": "markdown",
      "metadata": {
        "id": "Xl-05ZehKQHD"
      },
      "source": [
        "\n",
        "\n",
        "4) O método de Newton para raiz quadrada. Suponha que você queira calcular a raiz quadrada de n. Se você começar com quase qualquer aproximação, poderá calcular uma aproximação melhor (mais próxima da resposta real) com a seguinte fórmula: melhor = (approx + n/approx)/2\n",
        "\n",
        "Usando um loop e repetindo esta fórmula até que a melhor aproximação se aproxime o suficiente da anterior (podemos considerar uma diferença de 0,001), podemos escrever uma função para calcular a raiz quadrada.\n",
        "\n",
        "Esse é um exemplo de repetição indefinida. Com qual tipo de loop você deve escrever o seu programa?\n"
      ]
    },
    {
      "cell_type": "code",
      "metadata": {
        "id": "-jxkAV1zKShb",
        "outputId": "bf81b516-2c6e-4465-afe1-fa358a6e7ac1",
        "colab": {
          "base_uri": "https://localhost:8080/",
          "height": 35
        }
      },
      "source": [
        "#O loop deve ser escrito com um while\n",
        "def newton_sqrt(n,precisao=6):\n",
        "    \"\"\"Usa o método babilônico para aproximar uma raiz quadrada\n",
        "    Args:\n",
        "        n: número para determinar a raiz\n",
        "        precisao: casas decimais de precisão\n",
        "    \"\"\"\n",
        "    error = 1/10**precisao\n",
        "    if n > 0:\n",
        "        melhor = n\n",
        "        approx = 1\n",
        "        while abs(melhor - approx) > error:\n",
        "            approx = melhor\n",
        "            melhor = (approx + n/approx)/2\n",
        "        return melhor\n",
        "    elif n == 0:\n",
        "        return 0\n",
        "    else:\n",
        "        return \"Error: number is negative\"\n",
        "\n",
        "newton_sqrt(100)"
      ],
      "execution_count": null,
      "outputs": [
        {
          "output_type": "execute_result",
          "data": {
            "text/plain": [
              "10.0"
            ]
          },
          "metadata": {
            "tags": []
          },
          "execution_count": 33
        }
      ]
    },
    {
      "cell_type": "markdown",
      "metadata": {
        "id": "VogOcxH5prf9"
      },
      "source": [
        "1. O módulo time fornece uma função, também chamada time, que devolve a Hora Média de Greenwich na “época”, que é um momento arbitrário usado como ponto de referência. Em sistemas UNIX, a época é primeiro de janeiro de 1970\n",
        "\n",
        "Escreva um script que leia a hora atual e a converta em um tempo em horas, minutos e segundos, mais o número de dias desde a época."
      ]
    },
    {
      "cell_type": "code",
      "metadata": {
        "id": "WO9w5M4lpv_k",
        "outputId": "9e03af78-4ca1-4bfd-e8b1-efc0d85917ce",
        "colab": {
          "base_uri": "https://localhost:8080/",
          "height": 35
        }
      },
      "source": [
        "import time\n",
        "\n",
        "sec = time.time()\n",
        "days = sec/86400\n",
        "hours = (sec % 86400)/3600\n",
        "minutes = (sec % 86400 % 3600)/60\n",
        "seconds = (sec % 86400 % 3600 % 60)\n",
        "print(f\"{int(days)} dias, {int(hours)} horas, {int(minutes)} minutos e {int(seconds)} segundos\")"
      ],
      "execution_count": 15,
      "outputs": [
        {
          "output_type": "stream",
          "text": [
            "18556 dias, 14 horas, 46 minutos e 42 segundos\n"
          ],
          "name": "stdout"
        }
      ]
    },
    {
      "cell_type": "markdown",
      "metadata": {
        "id": "H1X7_SdNq7cD"
      },
      "source": [
        "2. O último teorema de Fermat diz que não existem números inteiros a, b e c tais que a**n + b**n == c**n para quaisquer valores de n maiores que 2.\n",
        "\n",
        "    Escreva uma função chamada check_fermat que receba quatro parâmetros – a, b, c e n – e verifique se o teorema de Fermat se mantém. Se n for maior que 2 e a**n + b**n == c**n o programa deve imprimir, “Holy smokes, Fermat was wrong!” Senão o programa deve exibir “No, that doesn’t work.”\n",
        "    Escreva uma função que peça ao usuário para digitar valores para a, b, c e n, os converta em números inteiros e use check_fermat para verificar se violam o teorema de Fermat.\n"
      ]
    },
    {
      "cell_type": "code",
      "metadata": {
        "id": "9mGeiGEeq-Ex",
        "outputId": "b2272563-b59b-4fd6-9739-64d7da5ee810",
        "colab": {
          "base_uri": "https://localhost:8080/",
          "height": 54
        }
      },
      "source": [
        "def check_fermat(a,b,c,n):\n",
        "    if not isinstance(n,int):\n",
        "        print(\"n não é inteiro\")\n",
        "    elif n <= 1:\n",
        "        print(\"n não é >= 2\")\n",
        "    elif n > 2 and a**n + b**n == c**n:\n",
        "        print(\"Holy smokes, Fermat was wrong!\")\n",
        "    else:\n",
        "        print(\"No, that doesn’t work.\")\n",
        "\n",
        "def input_for_fermat():\n",
        "    a, b, c, n = [int(x) for x in input(\"Digite a, b, c e n: \").split()]\n",
        "    check_fermat(a,b,c,n)\n",
        "    \n",
        "input_for_fermat()"
      ],
      "execution_count": null,
      "outputs": [
        {
          "output_type": "stream",
          "text": [
            "Digite a, b, c e n: 3 4 5 1\n",
            "n não é >= 2\n"
          ],
          "name": "stdout"
        }
      ]
    },
    {
      "cell_type": "markdown",
      "metadata": {
        "id": "134dwDS8r3FI"
      },
      "source": [
        "3. Há um teste simples para ver se é possível formar um triângulo para quaisquer três comprimentos: Se algum dos três comprimentos for maior que a soma dos outros dois, então você não pode formar um triângulo. Senão, você pode. (Se a soma de dois comprimentos igualar o terceiro, eles formam um triângulo chamado “degenerado”.)\n",
        "\n",
        "    A. Escreva uma função chamada is_triangle que receba três números inteiros como argumentos, e que imprima “Yes” ou “No”, dependendo da possibilidade de formar ou não um triângulo de gravetos com os comprimentos dados.\n",
        "    B. Escreva uma função que peça ao usuário para digitar três comprimentos de gravetos, os converta em números inteiros e use is_triangle para verificar se os gravetos com os comprimentos dados podem formar um triângulo.\n"
      ]
    },
    {
      "cell_type": "code",
      "metadata": {
        "id": "WpL3bitYszjH",
        "outputId": "d99cda74-53a2-47a8-c1db-2b4e5dddc6bc",
        "colab": {
          "base_uri": "https://localhost:8080/",
          "height": 54
        }
      },
      "source": [
        "def is_triangle(a,b,c):\n",
        "    if a + b < c or a + c < b or b + c < a:\n",
        "        print(\"No\")\n",
        "    else:\n",
        "        print(\"Yes\")\n",
        "\n",
        "def sticks_lengths():\n",
        "    a, b, c = [int(x) for x in input(\"Comprimentos dos gravetos A, B e C: \").split()]\n",
        "    is_triangle(a,b,c)\n",
        "\n",
        "sticks_lengths()"
      ],
      "execution_count": null,
      "outputs": [
        {
          "output_type": "stream",
          "text": [
            "Comprimentos dos gravetos A, B e C: 1 20 1\n",
            "No\n"
          ],
          "name": "stdout"
        }
      ]
    },
    {
      "cell_type": "markdown",
      "metadata": {
        "id": "lv0jUfi_uH7l"
      },
      "source": [
        "4. Leia a próxima função e veja se consegue compreender o que ela faz (veja os exemplos no Capítulo 4). Então execute-a e veja se acertou.\n",
        "\n",
        "def draw(t, length, n):\n",
        "    if n == 0:\n",
        "        return\n",
        "    angle = 50\n",
        "    t.forward(length * n)\n",
        "    t.left(angle)\n",
        "    draw(t, length, n-1)\n",
        "    t.right(2 * angle)\n",
        "    draw(t, length, n-1)\n",
        "    t.left(angle)\n",
        "    t.backward(length * n)"
      ]
    },
    {
      "cell_type": "code",
      "metadata": {
        "id": "xm02-AuCuOOi"
      },
      "source": [
        "import turtle\n",
        "\n",
        "def draw(t, length, n):\n",
        "    if n == 0:\n",
        "        return\n",
        "    angle = 50\n",
        "    t.forward(length * n)\n",
        "    t.left(angle)\n",
        "    draw(t, length, n-1)\n",
        "    t.right(2 * angle)\n",
        "    draw(t, length, n-1)\n",
        "    t.left(angle)\n",
        "    t.backward(length * n)\n",
        "\n",
        "draw(turtle.Turtle(),2,3)"
      ],
      "execution_count": null,
      "outputs": []
    }
  ]
}