{
  "nbformat": 4,
  "nbformat_minor": 0,
  "metadata": {
    "colab": {
      "name": "Henrique_Aula_9.ipynb",
      "provenance": [],
      "authorship_tag": "ABX9TyOJO6p8lQie/OW1YS//9j4h",
      "include_colab_link": true
    },
    "kernelspec": {
      "name": "python3",
      "display_name": "Python 3"
    }
  },
  "cells": [
    {
      "cell_type": "markdown",
      "metadata": {
        "id": "view-in-github",
        "colab_type": "text"
      },
      "source": [
        "<a href=\"https://colab.research.google.com/github/HenriqueCrj/AulasPython/blob/master/Henrique_Aula_9.ipynb\" target=\"_parent\"><img src=\"https://colab.research.google.com/assets/colab-badge.svg\" alt=\"Open In Colab\"/></a>"
      ]
    },
    {
      "cell_type": "markdown",
      "metadata": {
        "id": "usGlKacT-49S"
      },
      "source": [
        "1) Considere a função abaixo. Esse tipo de função é considerada uma função modificadora pois modifica o objeto que é passado como argumento."
      ]
    },
    {
      "cell_type": "code",
      "metadata": {
        "id": "RlRfs7LXa79b",
        "outputId": "af0d8409-55ea-46b1-c811-543df450e6b0",
        "colab": {
          "base_uri": "https://localhost:8080/",
          "height": 127
        }
      },
      "source": [
        "#Questão 1\n",
        "def dobrar_elementos(objeto):\n",
        "    \"\"\" Retorna uma nova lista com o dobro dos valores da lista de entrada.\n",
        "    Args:\n",
        "        uma_lista: lista ou string de entrada\n",
        "    Returns:\n",
        "        novo_objeto: nova lista ou string contendo os valores dobrados da lista de entrada\n",
        "    \"\"\"\n",
        "    novo_objeto = []\n",
        "    for (i, valor) in enumerate(objeto):\n",
        "        novo_elem = 2 * valor\n",
        "        novo_objeto.append(novo_elem)\n",
        "    if isinstance(objeto,str):\n",
        "        return ''.join(novo_objeto)\n",
        "    return novo_objeto\n",
        "\n",
        "\n",
        "minha_lista = \"abcd\"\n",
        "print(f\"Objeto 1 antes da função ser chamada: {minha_lista}\\n\")\n",
        "nova_lista = dobrar_elementos(minha_lista)\n",
        "print(f\"Objeto 1 após a função ser chamada: {minha_lista}\\n\")\n",
        "print(f\"Objeto resultante da função dobrar_elementos: {nova_lista}\\n\")"
      ],
      "execution_count": 1,
      "outputs": [
        {
          "output_type": "stream",
          "text": [
            "Objeto 1 antes da função ser chamada: abcd\n",
            "\n",
            "Objeto 1 após a função ser chamada: abcd\n",
            "\n",
            "Objeto resultante da função dobrar_elementos: aabbccdd\n",
            "\n"
          ],
          "name": "stdout"
        }
      ]
    },
    {
      "cell_type": "markdown",
      "metadata": {
        "id": "GtwOh1Vb9zi7"
      },
      "source": [
        "1) Utilizando um arquivo de dados com várias colunas (por exemplo, o arquivo dados_alunos.txt), faça um histograma com os dados de cada uma das colunas. Dica: utilize o matplotlib para fazer os histogramas.\n",
        "\n",
        "2) Estude os métodos do módulo os e faça um script que liste todos os arquivos de um dado diretório assim como de seus subdiretórios. Dica: use o método walk.\n",
        "\n",
        "3) Reescreva o script dessa aula, lcount.py na forma de uma módulo. Qual o valor da variável __name__ quando o módulo é importado?\n",
        "\n",
        "4) Escreva uma função chamada ler_arquivos que tome como argumento um nome de arquivo, leia um arquivo com um número qualquer de colunas e retorne um dicionário que tenha como keys os números das colunas e como valor uma lista dos valores associados a cada coluna do arquivo. Use o arquivo dados_alunos.txt. Caso o arquivo tiver o cabeçalho das colunas, p.ex. dados_alunos_cabecalho.txt, a key deve ser a palavra do cabeçalho.\n",
        "\n",
        "    Caso não queria usar dicionários, você pode pensar em uma estrutura de dados alternativa para armazenar os dados do arquivo, como por exemplo uma ou mais listas.\n",
        "    Também pode usar funções já existentes nos módulos de Python numpy ou pandas para ler arquivos de texto e armazenar nas estruturas desses módulos (DataFrames ou arrays).\n",
        "    Adapte a função acima para, se ocorrer um erro ao abrir, ler ou fechar arquivos, o programa capturar a exceção, imprimir uma mensagem de erro e sair.\n",
        "\n",
        "5) Adapte o script acima para ser um módulo.\n",
        "\n",
        "6) Escreva um script que importe o módulo criado acima e faça um histograma para cada coluna do arquivo, com seus respectivos valores. Use o dicionário ou a estrutura de dados criada em 1).\n",
        "\n",
        "7) Adicione uma função ao script criado em 6), que calcule o desvio padrão amostral, desvio padrão populacional e média de cada distribuição representada nos histogramas acima. Para tal, use o módulo statistics do Python ou outro módulo de Python (numpy, scipy)."
      ]
    },
    {
      "cell_type": "code",
      "metadata": {
        "id": "z6HXP1au9vK1",
        "cellView": "both",
        "outputId": "d4e8c97b-818d-4be6-cec6-64bffb507c12",
        "colab": {
          "base_uri": "https://localhost:8080/",
          "height": 35
        }
      },
      "source": [
        "#@title\n",
        "%%writefile dados_alunos.txt\n",
        "18\t1.68\t80\n",
        "18\t1.94\t60\n",
        "18\t1.7\t    80\n",
        "18\t1.76\t66\n",
        "19\t1.73\t87.5\n",
        "18\t1.66\t58\n",
        "21\t1.8\t    92\n",
        "18\t1.6\t    57\n",
        "18\t1.67\t64\n",
        "18\t1.73\t57\n",
        "17\t1.73\t75\n",
        "18\t1.61\t59\n",
        "18\t1.69\t90\n",
        "17\t1.71\t67\n",
        "19\t1.78\t60\n",
        "22\t1.68\t72\n",
        "18\t1.7\t    73\n",
        "19\t1.64\t86\n",
        "18\t1.64\t75\n",
        "20\t1.8\t    95\n",
        "17\t1.75\t60\n",
        "18\t1.78\t75\n",
        "18\t1.75\t65\n",
        "17\t1.69\t60\n",
        "19\t1.78\t73\n",
        "18\t1.7\t    63\n",
        "34\t1.75\t78\n",
        "18\t1.64\t64\n",
        "19\t1.75\t50\n",
        "18\t1.67\t61\n",
        "18\t1.7\t    70\n",
        "20\t1.8\t    60\n",
        "18\t1.63\t57\n",
        "23\t1.89\t110\n",
        "18\t1.71\t71\n",
        "18\t1.65\t65\n",
        "17\t1.72\t67\n",
        "19\t1.65\t58\n",
        "18\t1.75\t90\n",
        "18\t1.7\t    64\n",
        "19\t1.81\t70\n",
        "19\t1.65\t43\n",
        "28\t1.52\t50\n",
        "19\t1.79\t78\n",
        "26\t1.79\t82\n",
        "19\t1.75\t61\n",
        "19\t1.8\t    70\n",
        "20\t1.75\t70\n",
        "20\t1.73\t70\n",
        "19\t1.7\t    50\n",
        "22\t1.78\t72\n",
        "19\t1.77\t55\n",
        "18\t1.53\t58\n",
        "28\t1.54\t50\n",
        "20\t1.83\t70\n",
        "44\t1.85\t90\n",
        "18\t1.6\t    51"
      ],
      "execution_count": 2,
      "outputs": [
        {
          "output_type": "stream",
          "text": [
            "Overwriting dados_alunos.txt\n"
          ],
          "name": "stdout"
        }
      ]
    },
    {
      "cell_type": "code",
      "metadata": {
        "id": "kfOXmtPB_Szw",
        "outputId": "f42934db-ec32-4a4e-e565-52c9bac461f8",
        "colab": {
          "base_uri": "https://localhost:8080/",
          "height": 729
        }
      },
      "source": [
        "#Questão 1\n",
        "import pandas as pd\n",
        "import matplotlib.pyplot as plt\n",
        "\n",
        "df = pd.read_csv(\"dados_alunos.txt\",sep=\"\\t\",names=[\"idade(anos)\",\"altura(m)\",\"massa(kg)\"])\n",
        "df.head()\n",
        "plt.subplots(3,1,figsize=(8,10))\n",
        "for (i,column) in enumerate(df.columns):\n",
        "    plt.subplot(3,1,i+1)\n",
        "    plt.xlabel(f\"{column}\")\n",
        "    plt.ylabel(\"Frequência\")\n",
        "    plt.hist(df[column])\n",
        "\n",
        "plt.tight_layout()"
      ],
      "execution_count": 3,
      "outputs": [
        {
          "output_type": "display_data",
          "data": {
            "image/png": "[encoded data removed]",
            "text/plain": [
              "<Figure size 576x720 with 3 Axes>"
            ]
          },
          "metadata": {
            "tags": [],
            "needs_background": "light"
          }
        }
      ]
    },
    {
      "cell_type": "code",
      "metadata": {
        "id": "Yae8A4sDPQ7H",
        "outputId": "1183c361-4dd5-459b-af86-98a6a06189b8",
        "colab": {
          "base_uri": "https://localhost:8080/",
          "height": 752
        }
      },
      "source": [
        "#Questão 2\n",
        "import os\n",
        "\n",
        "def dir_tree(dirpath):\n",
        "    for dirpath,dirs,files in os.walk(dirpath):\n",
        "        print(f\"{dirpath}\")\n",
        "        for dir in dirs:\n",
        "            print(f\" {dir}\")\n",
        "        for file in files:\n",
        "            print(f\" {file}\")\n",
        "\n",
        "dirs = dir_tree(os.getcwd())"
      ],
      "execution_count": 4,
      "outputs": [
        {
          "output_type": "stream",
          "text": [
            "/content\n",
            " .config\n",
            " __pycache__\n",
            " sample_data\n",
            " lcount.py\n",
            " load_files.py\n",
            " dados_alunos.txt\n",
            " Seqtools.py\n",
            "/content/.config\n",
            " configurations\n",
            " logs\n",
            " .last_survey_prompt.yaml\n",
            " .last_update_check.json\n",
            " .last_opt_in_prompt.yaml\n",
            " config_sentinel\n",
            " active_config\n",
            " gce\n",
            " .metricsUUID\n",
            "/content/.config/configurations\n",
            " config_default\n",
            "/content/.config/logs\n",
            " 2020.10.14\n",
            "/content/.config/logs/2020.10.14\n",
            " 16.31.25.706256.log\n",
            " 16.30.50.869240.log\n",
            " 16.31.46.824031.log\n",
            " 16.31.46.119103.log\n",
            " 16.31.10.843101.log\n",
            " 16.31.31.333159.log\n",
            "/content/__pycache__\n",
            " Seqtools.cpython-36.pyc\n",
            " lcount.cpython-36.pyc\n",
            " load_files.cpython-36.pyc\n",
            "/content/sample_data\n",
            " anscombe.json\n",
            " README.md\n",
            " mnist_test.csv\n",
            " california_housing_test.csv\n",
            " california_housing_train.csv\n",
            " mnist_train_small.csv\n"
          ],
          "name": "stdout"
        }
      ]
    },
    {
      "cell_type": "code",
      "metadata": {
        "id": "g1DN8e3jf8qW",
        "outputId": "1d0a50a8-cb80-4ad7-9e1c-ad280199a8ee",
        "colab": {
          "base_uri": "https://localhost:8080/",
          "height": 35
        }
      },
      "source": [
        "#Questão 3\n",
        "%%writefile lcount.py\n",
        "\n",
        "def linecount(filename):\n",
        "    \"\"\"Retorna a quantidade de linhas no arquivo\n",
        "    Args:\n",
        "        filename: nome do arquivo\n",
        "    Returns:\n",
        "        cout: número de linhas\n",
        "    \"\"\"\n",
        "\n",
        "    count = 0\n",
        "    for line in open(filename):\n",
        "        count += 1\n",
        "    return count\n",
        "\n",
        "if __name__ == \"__main__\":\n",
        "    linecount('lcount.py')"
      ],
      "execution_count": 5,
      "outputs": [
        {
          "output_type": "stream",
          "text": [
            "Overwriting lcount.py\n"
          ],
          "name": "stdout"
        }
      ]
    },
    {
      "cell_type": "code",
      "metadata": {
        "id": "coMY5uudhM3C",
        "outputId": "73dbb128-4486-4273-a869-659fde43452e",
        "colab": {
          "base_uri": "https://localhost:8080/",
          "height": 35
        }
      },
      "source": [
        "#Questão 3 (continuação)\n",
        "import lcount\n",
        "\n",
        "print(lcount.__name__)"
      ],
      "execution_count": 6,
      "outputs": [
        {
          "output_type": "stream",
          "text": [
            "lcount\n"
          ],
          "name": "stdout"
        }
      ]
    },
    {
      "cell_type": "code",
      "metadata": {
        "id": "JE1nYOzkra5p",
        "outputId": "d64f5c45-e389-4a7e-8255-8f14f80a8656",
        "colab": {
          "base_uri": "https://localhost:8080/",
          "height": 35
        }
      },
      "source": [
        "#Questão 4 e 5\n",
        "%%writefile load_files.py\n",
        "import pandas as pd\n",
        "\n",
        "def ler_arquivos(file,sep,has_header=True):\n",
        "    \"\"\"Lê um arquivo e cria uma dataframe\n",
        "    Args:\n",
        "        file: nome do arquivo\n",
        "        has_header: booleano para saber se tem ou não cabeçalho\n",
        "    Returns:\n",
        "        DataFrame contendo os dados\n",
        "    \"\"\"\n",
        "    try:\n",
        "        if (has_header):\n",
        "            return pd.read_csv(file,sep=sep)\n",
        "        else:\n",
        "            return pd.read_csv(file,sep=sep,header=None)\n",
        "    except:\n",
        "        print(\"Erro ao abrir o arquivo\")"
      ],
      "execution_count": 7,
      "outputs": [
        {
          "output_type": "stream",
          "text": [
            "Overwriting load_files.py\n"
          ],
          "name": "stdout"
        }
      ]
    },
    {
      "cell_type": "code",
      "metadata": {
        "id": "OC6vhZoer8ZW",
        "outputId": "8e7f8d99-1bf2-4891-abfe-913585d2cdb0",
        "colab": {
          "base_uri": "https://localhost:8080/",
          "height": 949
        }
      },
      "source": [
        "#Questão 6 e 7\n",
        "import matplotlib.pyplot as plt\n",
        "import load_files as ld\n",
        "\n",
        "df = ld.ler_arquivos(\"dados_alunos.txt\",\"\\t\",False)\n",
        "df.columns = [\"idade(anos)\",\"altura(m)\",\"massa(kg)\"]\n",
        "plt.subplots(3,1,figsize=(8,10))\n",
        "for (i,column) in enumerate(df.columns):\n",
        "    print(f\"{column}: média = {df[column].mean():.5f}\")\n",
        "    print(f\"{column}: desvio padrão amostral = {df[column].std():.5f}\")\n",
        "    print(f\"{column}: desvio padrão populacional = {df[column].std(ddof=0):.5f}\\n\")\n",
        "    plt.subplot(3,1,i+1)\n",
        "    plt.xlabel(f\"{column}\")\n",
        "    plt.ylabel(\"Frequência\")\n",
        "    plt.hist(df[column])\n",
        "\n",
        "plt.tight_layout()"
      ],
      "execution_count": 8,
      "outputs": [
        {
          "output_type": "stream",
          "text": [
            "idade(anos): média = 19.82456\n",
            "idade(anos): desvio padrão amostral = 4.45262\n",
            "idade(anos): desvio padrão populacional = 4.41339\n",
            "\n",
            "altura(m): média = 1.71754\n",
            "altura(m): desvio padrão amostral = 0.08262\n",
            "altura(m): desvio padrão populacional = 0.08189\n",
            "\n",
            "massa(kg): média = 68.50000\n",
            "massa(kg): desvio padrão amostral = 13.22538\n",
            "massa(kg): desvio padrão populacional = 13.10886\n",
            "\n"
          ],
          "name": "stdout"
        },
        {
          "output_type": "display_data",
          "data": {
            "image/png": "[encoded data removed]",
            "text/plain": [
              "<Figure size 576x720 with 3 Axes>"
            ]
          },
          "metadata": {
            "tags": [],
            "needs_background": "light"
          }
        }
      ]
    }
  ]
}